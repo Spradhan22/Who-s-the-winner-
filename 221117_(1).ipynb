{
  "cells": [
    {
      "cell_type": "markdown",
      "metadata": {
        "id": "view-in-github",
        "colab_type": "text"
      },
      "source": [
        "<a href=\"https://colab.research.google.com/github/Spradhan22/Who-s-the-winner-/blob/main/221117_(1).ipynb\" target=\"_parent\"><img src=\"https://colab.research.google.com/assets/colab-badge.svg\" alt=\"Open In Colab\"/></a>"
      ]
    },
    {
      "cell_type": "code",
      "execution_count": 3,
      "metadata": {
        "id": "ohOltwjNPfZq"
      },
      "outputs": [],
      "source": [
        "import numpy as np\n",
        "import pandas as pd\n",
        "from matplotlib import pyplot as plt\n",
        "from sklearn.model_selection import train_test_split"
      ]
    },
    {
      "cell_type": "markdown",
      "metadata": {
        "id": "bAGxyp6HMO2t"
      },
      "source": [
        "**Data Retreival**"
      ]
    },
    {
      "cell_type": "code",
      "execution_count": 4,
      "metadata": {
        "colab": {
          "base_uri": "https://localhost:8080/",
          "height": 365
        },
        "id": "3SjbnMBbPfsH",
        "outputId": "2b472040-eb2d-472b-8052-c7ef498a6aa4"
      },
      "outputs": [
        {
          "output_type": "execute_result",
          "data": {
            "text/plain": [
              "   ID             Candidate        Constituency ∇ Party  Criminal Case  \\\n",
              "0   0            M.K. Mohan            ANNA NAGAR   DMK              4   \n",
              "1   1  Khatik Ramesh Prasad           KARERA (SC)   BJP              0   \n",
              "2   2      Dr. Mantar Gowda              MADIKERI   INC              0   \n",
              "3   3          Kundan Kumar             BEGUSARAI   BJP              0   \n",
              "4   4       Swapan Majumder  BANGAON DAKSHIN (SC)   BJP              2   \n",
              "\n",
              "  Total Assets Liabilities           state      Education  \n",
              "0   211 Crore+    2 Crore+      TAMIL NADU       8th Pass  \n",
              "1     1 Crore+           0  MADHYA PRADESH      12th Pass  \n",
              "2     7 Crore+     22 Lac+       KARNATAKA  Post Graduate  \n",
              "3     9 Crore+     24 Lac+           BIHAR  Post Graduate  \n",
              "4     2 Crore+     61 Lac+     WEST BENGAL       8th Pass  "
            ],
            "text/html": [
              "\n",
              "  <div id=\"df-9ec4e291-2832-42af-95cf-b83beceb00ef\" class=\"colab-df-container\">\n",
              "    <div>\n",
              "<style scoped>\n",
              "    .dataframe tbody tr th:only-of-type {\n",
              "        vertical-align: middle;\n",
              "    }\n",
              "\n",
              "    .dataframe tbody tr th {\n",
              "        vertical-align: top;\n",
              "    }\n",
              "\n",
              "    .dataframe thead th {\n",
              "        text-align: right;\n",
              "    }\n",
              "</style>\n",
              "<table border=\"1\" class=\"dataframe\">\n",
              "  <thead>\n",
              "    <tr style=\"text-align: right;\">\n",
              "      <th></th>\n",
              "      <th>ID</th>\n",
              "      <th>Candidate</th>\n",
              "      <th>Constituency ∇</th>\n",
              "      <th>Party</th>\n",
              "      <th>Criminal Case</th>\n",
              "      <th>Total Assets</th>\n",
              "      <th>Liabilities</th>\n",
              "      <th>state</th>\n",
              "      <th>Education</th>\n",
              "    </tr>\n",
              "  </thead>\n",
              "  <tbody>\n",
              "    <tr>\n",
              "      <th>0</th>\n",
              "      <td>0</td>\n",
              "      <td>M.K. Mohan</td>\n",
              "      <td>ANNA NAGAR</td>\n",
              "      <td>DMK</td>\n",
              "      <td>4</td>\n",
              "      <td>211 Crore+</td>\n",
              "      <td>2 Crore+</td>\n",
              "      <td>TAMIL NADU</td>\n",
              "      <td>8th Pass</td>\n",
              "    </tr>\n",
              "    <tr>\n",
              "      <th>1</th>\n",
              "      <td>1</td>\n",
              "      <td>Khatik Ramesh Prasad</td>\n",
              "      <td>KARERA (SC)</td>\n",
              "      <td>BJP</td>\n",
              "      <td>0</td>\n",
              "      <td>1 Crore+</td>\n",
              "      <td>0</td>\n",
              "      <td>MADHYA PRADESH</td>\n",
              "      <td>12th Pass</td>\n",
              "    </tr>\n",
              "    <tr>\n",
              "      <th>2</th>\n",
              "      <td>2</td>\n",
              "      <td>Dr. Mantar Gowda</td>\n",
              "      <td>MADIKERI</td>\n",
              "      <td>INC</td>\n",
              "      <td>0</td>\n",
              "      <td>7 Crore+</td>\n",
              "      <td>22 Lac+</td>\n",
              "      <td>KARNATAKA</td>\n",
              "      <td>Post Graduate</td>\n",
              "    </tr>\n",
              "    <tr>\n",
              "      <th>3</th>\n",
              "      <td>3</td>\n",
              "      <td>Kundan Kumar</td>\n",
              "      <td>BEGUSARAI</td>\n",
              "      <td>BJP</td>\n",
              "      <td>0</td>\n",
              "      <td>9 Crore+</td>\n",
              "      <td>24 Lac+</td>\n",
              "      <td>BIHAR</td>\n",
              "      <td>Post Graduate</td>\n",
              "    </tr>\n",
              "    <tr>\n",
              "      <th>4</th>\n",
              "      <td>4</td>\n",
              "      <td>Swapan Majumder</td>\n",
              "      <td>BANGAON DAKSHIN (SC)</td>\n",
              "      <td>BJP</td>\n",
              "      <td>2</td>\n",
              "      <td>2 Crore+</td>\n",
              "      <td>61 Lac+</td>\n",
              "      <td>WEST BENGAL</td>\n",
              "      <td>8th Pass</td>\n",
              "    </tr>\n",
              "  </tbody>\n",
              "</table>\n",
              "</div>\n",
              "    <div class=\"colab-df-buttons\">\n",
              "\n",
              "  <div class=\"colab-df-container\">\n",
              "    <button class=\"colab-df-convert\" onclick=\"convertToInteractive('df-9ec4e291-2832-42af-95cf-b83beceb00ef')\"\n",
              "            title=\"Convert this dataframe to an interactive table.\"\n",
              "            style=\"display:none;\">\n",
              "\n",
              "  <svg xmlns=\"http://www.w3.org/2000/svg\" height=\"24px\" viewBox=\"0 -960 960 960\">\n",
              "    <path d=\"M120-120v-720h720v720H120Zm60-500h600v-160H180v160Zm220 220h160v-160H400v160Zm0 220h160v-160H400v160ZM180-400h160v-160H180v160Zm440 0h160v-160H620v160ZM180-180h160v-160H180v160Zm440 0h160v-160H620v160Z\"/>\n",
              "  </svg>\n",
              "    </button>\n",
              "\n",
              "  <style>\n",
              "    .colab-df-container {\n",
              "      display:flex;\n",
              "      gap: 12px;\n",
              "    }\n",
              "\n",
              "    .colab-df-convert {\n",
              "      background-color: #E8F0FE;\n",
              "      border: none;\n",
              "      border-radius: 50%;\n",
              "      cursor: pointer;\n",
              "      display: none;\n",
              "      fill: #1967D2;\n",
              "      height: 32px;\n",
              "      padding: 0 0 0 0;\n",
              "      width: 32px;\n",
              "    }\n",
              "\n",
              "    .colab-df-convert:hover {\n",
              "      background-color: #E2EBFA;\n",
              "      box-shadow: 0px 1px 2px rgba(60, 64, 67, 0.3), 0px 1px 3px 1px rgba(60, 64, 67, 0.15);\n",
              "      fill: #174EA6;\n",
              "    }\n",
              "\n",
              "    .colab-df-buttons div {\n",
              "      margin-bottom: 4px;\n",
              "    }\n",
              "\n",
              "    [theme=dark] .colab-df-convert {\n",
              "      background-color: #3B4455;\n",
              "      fill: #D2E3FC;\n",
              "    }\n",
              "\n",
              "    [theme=dark] .colab-df-convert:hover {\n",
              "      background-color: #434B5C;\n",
              "      box-shadow: 0px 1px 3px 1px rgba(0, 0, 0, 0.15);\n",
              "      filter: drop-shadow(0px 1px 2px rgba(0, 0, 0, 0.3));\n",
              "      fill: #FFFFFF;\n",
              "    }\n",
              "  </style>\n",
              "\n",
              "    <script>\n",
              "      const buttonEl =\n",
              "        document.querySelector('#df-9ec4e291-2832-42af-95cf-b83beceb00ef button.colab-df-convert');\n",
              "      buttonEl.style.display =\n",
              "        google.colab.kernel.accessAllowed ? 'block' : 'none';\n",
              "\n",
              "      async function convertToInteractive(key) {\n",
              "        const element = document.querySelector('#df-9ec4e291-2832-42af-95cf-b83beceb00ef');\n",
              "        const dataTable =\n",
              "          await google.colab.kernel.invokeFunction('convertToInteractive',\n",
              "                                                    [key], {});\n",
              "        if (!dataTable) return;\n",
              "\n",
              "        const docLinkHtml = 'Like what you see? Visit the ' +\n",
              "          '<a target=\"_blank\" href=https://colab.research.google.com/notebooks/data_table.ipynb>data table notebook</a>'\n",
              "          + ' to learn more about interactive tables.';\n",
              "        element.innerHTML = '';\n",
              "        dataTable['output_type'] = 'display_data';\n",
              "        await google.colab.output.renderOutput(dataTable, element);\n",
              "        const docLink = document.createElement('div');\n",
              "        docLink.innerHTML = docLinkHtml;\n",
              "        element.appendChild(docLink);\n",
              "      }\n",
              "    </script>\n",
              "  </div>\n",
              "\n",
              "\n",
              "<div id=\"df-6bf76adc-8749-4c2e-8739-2b70e82647a2\">\n",
              "  <button class=\"colab-df-quickchart\" onclick=\"quickchart('df-6bf76adc-8749-4c2e-8739-2b70e82647a2')\"\n",
              "            title=\"Suggest charts\"\n",
              "            style=\"display:none;\">\n",
              "\n",
              "<svg xmlns=\"http://www.w3.org/2000/svg\" height=\"24px\"viewBox=\"0 0 24 24\"\n",
              "     width=\"24px\">\n",
              "    <g>\n",
              "        <path d=\"M19 3H5c-1.1 0-2 .9-2 2v14c0 1.1.9 2 2 2h14c1.1 0 2-.9 2-2V5c0-1.1-.9-2-2-2zM9 17H7v-7h2v7zm4 0h-2V7h2v10zm4 0h-2v-4h2v4z\"/>\n",
              "    </g>\n",
              "</svg>\n",
              "  </button>\n",
              "\n",
              "<style>\n",
              "  .colab-df-quickchart {\n",
              "      --bg-color: #E8F0FE;\n",
              "      --fill-color: #1967D2;\n",
              "      --hover-bg-color: #E2EBFA;\n",
              "      --hover-fill-color: #174EA6;\n",
              "      --disabled-fill-color: #AAA;\n",
              "      --disabled-bg-color: #DDD;\n",
              "  }\n",
              "\n",
              "  [theme=dark] .colab-df-quickchart {\n",
              "      --bg-color: #3B4455;\n",
              "      --fill-color: #D2E3FC;\n",
              "      --hover-bg-color: #434B5C;\n",
              "      --hover-fill-color: #FFFFFF;\n",
              "      --disabled-bg-color: #3B4455;\n",
              "      --disabled-fill-color: #666;\n",
              "  }\n",
              "\n",
              "  .colab-df-quickchart {\n",
              "    background-color: var(--bg-color);\n",
              "    border: none;\n",
              "    border-radius: 50%;\n",
              "    cursor: pointer;\n",
              "    display: none;\n",
              "    fill: var(--fill-color);\n",
              "    height: 32px;\n",
              "    padding: 0;\n",
              "    width: 32px;\n",
              "  }\n",
              "\n",
              "  .colab-df-quickchart:hover {\n",
              "    background-color: var(--hover-bg-color);\n",
              "    box-shadow: 0 1px 2px rgba(60, 64, 67, 0.3), 0 1px 3px 1px rgba(60, 64, 67, 0.15);\n",
              "    fill: var(--button-hover-fill-color);\n",
              "  }\n",
              "\n",
              "  .colab-df-quickchart-complete:disabled,\n",
              "  .colab-df-quickchart-complete:disabled:hover {\n",
              "    background-color: var(--disabled-bg-color);\n",
              "    fill: var(--disabled-fill-color);\n",
              "    box-shadow: none;\n",
              "  }\n",
              "\n",
              "  .colab-df-spinner {\n",
              "    border: 2px solid var(--fill-color);\n",
              "    border-color: transparent;\n",
              "    border-bottom-color: var(--fill-color);\n",
              "    animation:\n",
              "      spin 1s steps(1) infinite;\n",
              "  }\n",
              "\n",
              "  @keyframes spin {\n",
              "    0% {\n",
              "      border-color: transparent;\n",
              "      border-bottom-color: var(--fill-color);\n",
              "      border-left-color: var(--fill-color);\n",
              "    }\n",
              "    20% {\n",
              "      border-color: transparent;\n",
              "      border-left-color: var(--fill-color);\n",
              "      border-top-color: var(--fill-color);\n",
              "    }\n",
              "    30% {\n",
              "      border-color: transparent;\n",
              "      border-left-color: var(--fill-color);\n",
              "      border-top-color: var(--fill-color);\n",
              "      border-right-color: var(--fill-color);\n",
              "    }\n",
              "    40% {\n",
              "      border-color: transparent;\n",
              "      border-right-color: var(--fill-color);\n",
              "      border-top-color: var(--fill-color);\n",
              "    }\n",
              "    60% {\n",
              "      border-color: transparent;\n",
              "      border-right-color: var(--fill-color);\n",
              "    }\n",
              "    80% {\n",
              "      border-color: transparent;\n",
              "      border-right-color: var(--fill-color);\n",
              "      border-bottom-color: var(--fill-color);\n",
              "    }\n",
              "    90% {\n",
              "      border-color: transparent;\n",
              "      border-bottom-color: var(--fill-color);\n",
              "    }\n",
              "  }\n",
              "</style>\n",
              "\n",
              "  <script>\n",
              "    async function quickchart(key) {\n",
              "      const quickchartButtonEl =\n",
              "        document.querySelector('#' + key + ' button');\n",
              "      quickchartButtonEl.disabled = true;  // To prevent multiple clicks.\n",
              "      quickchartButtonEl.classList.add('colab-df-spinner');\n",
              "      try {\n",
              "        const charts = await google.colab.kernel.invokeFunction(\n",
              "            'suggestCharts', [key], {});\n",
              "      } catch (error) {\n",
              "        console.error('Error during call to suggestCharts:', error);\n",
              "      }\n",
              "      quickchartButtonEl.classList.remove('colab-df-spinner');\n",
              "      quickchartButtonEl.classList.add('colab-df-quickchart-complete');\n",
              "    }\n",
              "    (() => {\n",
              "      let quickchartButtonEl =\n",
              "        document.querySelector('#df-6bf76adc-8749-4c2e-8739-2b70e82647a2 button');\n",
              "      quickchartButtonEl.style.display =\n",
              "        google.colab.kernel.accessAllowed ? 'block' : 'none';\n",
              "    })();\n",
              "  </script>\n",
              "</div>\n",
              "\n",
              "    </div>\n",
              "  </div>\n"
            ],
            "application/vnd.google.colaboratory.intrinsic+json": {
              "type": "dataframe",
              "variable_name": "df",
              "summary": "{\n  \"name\": \"df\",\n  \"rows\": 2059,\n  \"fields\": [\n    {\n      \"column\": \"ID\",\n      \"properties\": {\n        \"dtype\": \"number\",\n        \"std\": 594,\n        \"min\": 0,\n        \"max\": 2058,\n        \"num_unique_values\": 2059,\n        \"samples\": [\n          1298,\n          591,\n          1318\n        ],\n        \"semantic_type\": \"\",\n        \"description\": \"\"\n      }\n    },\n    {\n      \"column\": \"Candidate\",\n      \"properties\": {\n        \"dtype\": \"string\",\n        \"num_unique_values\": 2039,\n        \"samples\": [\n          \"Keshav Singh Desai\",\n          \"Nandkishor\",\n          \"H.M.Ganesh Prasad\"\n        ],\n        \"semantic_type\": \"\",\n        \"description\": \"\"\n      }\n    },\n    {\n      \"column\": \"Constituency \\u2207\",\n      \"properties\": {\n        \"dtype\": \"string\",\n        \"num_unique_values\": 2037,\n        \"samples\": [\n          \"MAKHDUMPUR (SC)\",\n          \"KILVELUR\",\n          \"BASERI (SC)\"\n        ],\n        \"semantic_type\": \"\",\n        \"description\": \"\"\n      }\n    },\n    {\n      \"column\": \"Party\",\n      \"properties\": {\n        \"dtype\": \"category\",\n        \"num_unique_values\": 23,\n        \"samples\": [\n          \"TDP\",\n          \"SHS\",\n          \"DMK\"\n        ],\n        \"semantic_type\": \"\",\n        \"description\": \"\"\n      }\n    },\n    {\n      \"column\": \"Criminal Case\",\n      \"properties\": {\n        \"dtype\": \"number\",\n        \"std\": 4,\n        \"min\": 0,\n        \"max\": 87,\n        \"num_unique_values\": 35,\n        \"samples\": [\n          87,\n          9,\n          18\n        ],\n        \"semantic_type\": \"\",\n        \"description\": \"\"\n      }\n    },\n    {\n      \"column\": \"Total Assets\",\n      \"properties\": {\n        \"dtype\": \"category\",\n        \"num_unique_values\": 210,\n        \"samples\": [\n          \"16 Lac+\",\n          \"34 Crore+\",\n          \"52 Crore+\"\n        ],\n        \"semantic_type\": \"\",\n        \"description\": \"\"\n      }\n    },\n    {\n      \"column\": \"Liabilities\",\n      \"properties\": {\n        \"dtype\": \"category\",\n        \"num_unique_values\": 170,\n        \"samples\": [\n          \"71 Lac+\",\n          \"6 Crore+\",\n          \"85 Lac+\"\n        ],\n        \"semantic_type\": \"\",\n        \"description\": \"\"\n      }\n    },\n    {\n      \"column\": \"state\",\n      \"properties\": {\n        \"dtype\": \"category\",\n        \"num_unique_values\": 28,\n        \"samples\": [\n          \"HIMACHAL PRADESH\",\n          \"SIKKIM\",\n          \"ODISHA\"\n        ],\n        \"semantic_type\": \"\",\n        \"description\": \"\"\n      }\n    },\n    {\n      \"column\": \"Education\",\n      \"properties\": {\n        \"dtype\": \"category\",\n        \"num_unique_values\": 10,\n        \"samples\": [\n          \"Literate\",\n          \"12th Pass\",\n          \"10th Pass\"\n        ],\n        \"semantic_type\": \"\",\n        \"description\": \"\"\n      }\n    }\n  ]\n}"
            }
          },
          "metadata": {},
          "execution_count": 4
        }
      ],
      "source": [
        "df = pd.read_csv('train.csv')\n",
        "df1 = pd.read_csv('test.csv')\n",
        "df.columns\n",
        "df.head()"
      ]
    },
    {
      "cell_type": "code",
      "execution_count": 5,
      "metadata": {
        "colab": {
          "base_uri": "https://localhost:8080/"
        },
        "id": "--jNRDIBbzZo",
        "outputId": "8ffa1639-2eec-49cf-88fc-bf9ac8209110"
      },
      "outputs": [
        {
          "output_type": "execute_result",
          "data": {
            "text/plain": [
              "Party\n",
              "BJP                         862\n",
              "INC                         365\n",
              "AITC                        130\n",
              "AAP                          94\n",
              "YSRCP                        86\n",
              "DMK                          73\n",
              "BJD                          65\n",
              "SP                           62\n",
              "CPI(M)                       43\n",
              "RJD                          42\n",
              "IND                          38\n",
              "NCP                          34\n",
              "AIADMK                       34\n",
              "JD(U)                        32\n",
              "SHS                          29\n",
              "NPP                          20\n",
              "JMM                          14\n",
              "NDPP                          9\n",
              "TDP                           8\n",
              "JD(S)                         7\n",
              "Sikkim Krantikari Morcha      5\n",
              "CPI                           4\n",
              "Tipra Motha Party             3\n",
              "Name: count, dtype: int64"
            ]
          },
          "metadata": {},
          "execution_count": 5
        }
      ],
      "source": [
        "df.describe(include='all')\n",
        "df.get('Party').value_counts()"
      ]
    },
    {
      "cell_type": "markdown",
      "metadata": {
        "id": "huQmOjoTMZ9o"
      },
      "source": [
        "**PreProcessing**"
      ]
    },
    {
      "cell_type": "markdown",
      "metadata": {
        "id": "Gpj7tybiP6-x"
      },
      "source": [
        "\n",
        "Converting Assets and Liabilities to numerical values"
      ]
    },
    {
      "cell_type": "code",
      "execution_count": 6,
      "metadata": {
        "id": "AHIR0ivbPf1G"
      },
      "outputs": [],
      "source": [
        "Assets = df['Total Assets']\n",
        "df[\"Assets_num\"] = Assets.str.split(\" \").str.get(0).astype(int) * (Assets.str.contains(\"Hun\").astype(int)*1+ Assets.str.contains(\"Thou\").astype(int)*1000 + Assets.str.contains(\"Lac\").astype(int)*1000000 + Assets.str.contains(\"Crore\").astype(int) * 1000000000)\n",
        "Liabilities = df['Liabilities']\n",
        "df[\"Liabilities_num\"] = Liabilities.str.split(\" \").str.get(0).astype(int) * (Liabilities.str.contains(\"Hun\").astype(int)*1+Liabilities.str.contains(\"Thou\").astype(int)*1000 + Liabilities.str.contains(\"Lac\").astype(int)*1000000 + Liabilities.str.contains(\"Crore\").astype(int) * 1000000000)\n",
        "df.head()\n",
        "Assets = df1['Total Assets']\n",
        "df1[\"Assets_num\"] = Assets.str.split(\" \").str.get(0).astype(int) * (Assets.str.contains(\"Hun\").astype(int)*1+Assets.str.contains(\"Thou\").astype(int)*1000 + Assets.str.contains(\"Lac\").astype(int)*1000000 + Assets.str.contains(\"Crore\").astype(int) * 1000000000)\n",
        "Liabilities = df1['Liabilities']\n",
        "df1[\"Liabilities_num\"] = Liabilities.str.split(\" \").str.get(0).astype(int) * (Assets.str.contains(\"Hun\").astype(int)*1+Liabilities.str.contains(\"Thou\").astype(int)*1000 + Liabilities.str.contains(\"Lac\").astype(int)*1000000 + Liabilities.str.contains(\"Crore\").astype(int) * 1000000000)"
      ]
    },
    {
      "cell_type": "markdown",
      "metadata": {
        "id": "MGBACFC9bG8N"
      },
      "source": [
        "We drop Candidates, Constituency ∇, and ID column since these labels are completely/almost unique for every data point."
      ]
    },
    {
      "cell_type": "code",
      "execution_count": 7,
      "metadata": {
        "colab": {
          "base_uri": "https://localhost:8080/"
        },
        "id": "qLdcqq2mjmd_",
        "outputId": "81f4e86b-7877-4f28-8fa3-c4fa386d5c15"
      },
      "outputs": [
        {
          "output_type": "execute_result",
          "data": {
            "text/plain": [
              "Index(['Party', 'Criminal Case', 'Total Assets', 'Liabilities', 'state',\n",
              "       'Assets_num', 'Liabilities_num'],\n",
              "      dtype='object')"
            ]
          },
          "metadata": {},
          "execution_count": 7
        }
      ],
      "source": [
        "df.drop(columns=['Candidate','Constituency ∇','ID'],inplace = True)\n",
        "df.columns\n",
        "df1.drop(columns=['Candidate','Constituency ∇','ID'],inplace = True)\n",
        "df1.columns"
      ]
    },
    {
      "cell_type": "code",
      "execution_count": 8,
      "metadata": {
        "id": "VFK-e5g6vRfK"
      },
      "outputs": [],
      "source": [
        "df.drop(columns=['Total Assets','Liabilities'],inplace = True)\n",
        "df.columns\n",
        "df1.drop(columns=['Total Assets','Liabilities'],inplace = True)"
      ]
    },
    {
      "cell_type": "markdown",
      "metadata": {
        "id": "4wABjCxVNa-e"
      },
      "source": [
        "Now for categorical labels like State, Party we would like to do One hot encoding for the labels."
      ]
    },
    {
      "cell_type": "code",
      "execution_count": 9,
      "metadata": {
        "id": "9hrqKujZwMxK"
      },
      "outputs": [],
      "source": [
        "one_hot = pd.get_dummies(df['state'])\n",
        "df = df.join(one_hot)\n",
        "df.drop(columns=['state'],inplace=True)\n",
        "one_hot = pd.get_dummies(df1['state'])\n",
        "df1 = df1.join(one_hot)\n",
        "df1.drop(columns=['state'],inplace=True)"
      ]
    },
    {
      "cell_type": "code",
      "execution_count": 10,
      "metadata": {
        "id": "U6BYnBWR6OVA"
      },
      "outputs": [],
      "source": [
        "one_hot = pd.get_dummies(df['Party'])\n",
        "df = df.join(one_hot)\n",
        "df.drop(columns=['Party'],inplace=True)\n",
        "one_hot = pd.get_dummies(df1['Party'])\n",
        "df1 = df1.join(one_hot)\n",
        "df1.drop(columns=['Party'],inplace=True)"
      ]
    },
    {
      "cell_type": "code",
      "execution_count": 11,
      "metadata": {
        "colab": {
          "base_uri": "https://localhost:8080/"
        },
        "id": "WWqbH3Txwekh",
        "outputId": "32fe49e6-3032-4f6f-a09d-5265c4d12eb5"
      },
      "outputs": [
        {
          "output_type": "execute_result",
          "data": {
            "text/plain": [
              "Index(['Criminal Case', 'Education', 'Assets_num', 'Liabilities_num',\n",
              "       'ANDHRA PRADESH', 'ARUNACHAL PRADESH', 'ASSAM', 'BIHAR', 'CHHATTISGARH',\n",
              "       'DELHI', 'GOA', 'GUJARAT', 'HARYANA', 'HIMACHAL PRADESH', 'JHARKHAND',\n",
              "       'KARNATAKA', 'KERALA', 'MADHYA PRADESH', 'MAHARASHTRA', 'MANIPUR',\n",
              "       'MEGHALAYA', 'NAGALAND', 'ODISHA', 'PUDUCHERRY', 'PUNJAB', 'RAJASTHAN',\n",
              "       'SIKKIM', 'TAMIL NADU', 'TRIPURA', 'UTTAR PRADESH', 'UTTARAKHAND',\n",
              "       'WEST BENGAL', 'AAP', 'AIADMK', 'AITC', 'BJD', 'BJP', 'CPI', 'CPI(M)',\n",
              "       'DMK', 'INC', 'IND', 'JD(S)', 'JD(U)', 'JMM', 'NCP', 'NDPP', 'NPP',\n",
              "       'RJD', 'SHS', 'SP', 'Sikkim Krantikari Morcha', 'TDP',\n",
              "       'Tipra Motha Party', 'YSRCP'],\n",
              "      dtype='object')"
            ]
          },
          "metadata": {},
          "execution_count": 11
        }
      ],
      "source": [
        "df.columns"
      ]
    },
    {
      "cell_type": "code",
      "execution_count": 12,
      "metadata": {
        "id": "tlufxzNRxtpN"
      },
      "outputs": [],
      "source": [
        "df.Education.value_counts()\n",
        "Education = df[\"Education\"]"
      ]
    },
    {
      "cell_type": "markdown",
      "metadata": {
        "id": "LUyhp7OrORuJ"
      },
      "source": [
        "We encode Target label Education as numbers to visualize Correlation between labels\n"
      ]
    },
    {
      "cell_type": "code",
      "execution_count": 13,
      "metadata": {
        "id": "hcjI9L1VOAQc"
      },
      "outputs": [],
      "source": [
        "df['code'] = pd.factorize(df['Education'], sort=True)[0]"
      ]
    },
    {
      "cell_type": "code",
      "execution_count": 14,
      "metadata": {
        "id": "r_HK1eaIz_Zg"
      },
      "outputs": [],
      "source": [
        "df.drop(columns = ['Education'],inplace = True)"
      ]
    },
    {
      "cell_type": "markdown",
      "metadata": {
        "id": "zeABiNhcPtYk"
      },
      "source": [
        "**Correraltion between Columns**\n",
        "Also note our target label is code"
      ]
    },
    {
      "cell_type": "code",
      "execution_count": 15,
      "metadata": {
        "id": "8L2FdXgo0RZw"
      },
      "outputs": [],
      "source": [
        "import seaborn as sns"
      ]
    },
    {
      "cell_type": "code",
      "execution_count": 16,
      "metadata": {
        "colab": {
          "base_uri": "https://localhost:8080/",
          "height": 704
        },
        "id": "qzOdTwkQ2A2_",
        "outputId": "3fd24adc-fff2-4821-a37d-b4c4e37095e3"
      },
      "outputs": [
        {
          "output_type": "execute_result",
          "data": {
            "text/plain": [
              "<seaborn.matrix.ClusterGrid at 0x7b1ea7e7abc0>"
            ]
          },
          "metadata": {},
          "execution_count": 16
        },
        {
          "output_type": "display_data",
          "data": {
            "text/plain": [
              "<Figure size 1000x1000 with 4 Axes>"
            ],
            "image/png": "[encoded data removed]"
          },
          "metadata": {}
        }
      ],
      "source": [
        "sns.clustermap(df.corr(), cmap='RdBu',center=0)"
      ]
    },
    {
      "cell_type": "markdown",
      "metadata": {
        "id": "Bm3RjM3jQGrd"
      },
      "source": [
        "**Scaling Data**"
      ]
    },
    {
      "cell_type": "code",
      "execution_count": 17,
      "metadata": {
        "colab": {
          "base_uri": "https://localhost:8080/"
        },
        "id": "hbuVZz5w2SHv",
        "outputId": "8a492411-cdc9-40c8-bada-ac73c9e931ac"
      },
      "outputs": [
        {
          "output_type": "execute_result",
          "data": {
            "text/plain": [
              "Education\n",
              "Graduate                 531\n",
              "Post Graduate            432\n",
              "12th Pass                349\n",
              "Graduate Professional    339\n",
              "10th Pass                227\n",
              "8th Pass                  78\n",
              "Doctorate                 52\n",
              "Others                    28\n",
              "Literate                  14\n",
              "5th Pass                   9\n",
              "Name: count, dtype: int64"
            ]
          },
          "metadata": {},
          "execution_count": 17
        }
      ],
      "source": [
        "from sklearn.pipeline import Pipeline\n",
        "from sklearn.preprocessing import StandardScaler\n",
        "scaler = StandardScaler()\n",
        "from sklearn.preprocessing import LabelEncoder\n",
        "y = df.code\n",
        "X = df.drop(columns=['code'])\n",
        "le = LabelEncoder()\n",
        "y = Education\n",
        "X_transformed = scaler.fit_transform(X)\n",
        "X_test_transformed = scaler.fit_transform(df1)\n",
        "X = X_transformed\n",
        "X_test1 = X_test_transformed\n",
        "y.value_counts()"
      ]
    },
    {
      "cell_type": "markdown",
      "metadata": {
        "id": "razstfsCQZoo"
      },
      "source": [
        "**Model Training**"
      ]
    },
    {
      "cell_type": "code",
      "execution_count": 18,
      "metadata": {
        "id": "iPmVeJ--4mpJ"
      },
      "outputs": [],
      "source": [
        "X_train, X_test, y_train, y_test = train_test_split(X,y,test_size=0.3, random_state=42)"
      ]
    },
    {
      "cell_type": "code",
      "execution_count": 19,
      "metadata": {
        "colab": {
          "base_uri": "https://localhost:8080/",
          "height": 89
        },
        "id": "QTLhNtHr5Khb",
        "outputId": "af945452-282e-4187-f6b1-e843a10a0a8c"
      },
      "outputs": [
        {
          "output_type": "execute_result",
          "data": {
            "text/plain": [
              "Empty DataFrame\n",
              "Columns: [family, model, classification_rate, runtime]\n",
              "Index: []"
            ],
            "text/html": [
              "\n",
              "  <div id=\"df-1f1f158c-2f94-4312-b395-c8eeed4fe817\" class=\"colab-df-container\">\n",
              "    <div>\n",
              "<style scoped>\n",
              "    .dataframe tbody tr th:only-of-type {\n",
              "        vertical-align: middle;\n",
              "    }\n",
              "\n",
              "    .dataframe tbody tr th {\n",
              "        vertical-align: top;\n",
              "    }\n",
              "\n",
              "    .dataframe thead th {\n",
              "        text-align: right;\n",
              "    }\n",
              "</style>\n",
              "<table border=\"1\" class=\"dataframe\">\n",
              "  <thead>\n",
              "    <tr style=\"text-align: right;\">\n",
              "      <th></th>\n",
              "      <th>family</th>\n",
              "      <th>model</th>\n",
              "      <th>classification_rate</th>\n",
              "      <th>runtime</th>\n",
              "    </tr>\n",
              "  </thead>\n",
              "  <tbody>\n",
              "  </tbody>\n",
              "</table>\n",
              "</div>\n",
              "    <div class=\"colab-df-buttons\">\n",
              "\n",
              "  <div class=\"colab-df-container\">\n",
              "    <button class=\"colab-df-convert\" onclick=\"convertToInteractive('df-1f1f158c-2f94-4312-b395-c8eeed4fe817')\"\n",
              "            title=\"Convert this dataframe to an interactive table.\"\n",
              "            style=\"display:none;\">\n",
              "\n",
              "  <svg xmlns=\"http://www.w3.org/2000/svg\" height=\"24px\" viewBox=\"0 -960 960 960\">\n",
              "    <path d=\"M120-120v-720h720v720H120Zm60-500h600v-160H180v160Zm220 220h160v-160H400v160Zm0 220h160v-160H400v160ZM180-400h160v-160H180v160Zm440 0h160v-160H620v160ZM180-180h160v-160H180v160Zm440 0h160v-160H620v160Z\"/>\n",
              "  </svg>\n",
              "    </button>\n",
              "\n",
              "  <style>\n",
              "    .colab-df-container {\n",
              "      display:flex;\n",
              "      gap: 12px;\n",
              "    }\n",
              "\n",
              "    .colab-df-convert {\n",
              "      background-color: #E8F0FE;\n",
              "      border: none;\n",
              "      border-radius: 50%;\n",
              "      cursor: pointer;\n",
              "      display: none;\n",
              "      fill: #1967D2;\n",
              "      height: 32px;\n",
              "      padding: 0 0 0 0;\n",
              "      width: 32px;\n",
              "    }\n",
              "\n",
              "    .colab-df-convert:hover {\n",
              "      background-color: #E2EBFA;\n",
              "      box-shadow: 0px 1px 2px rgba(60, 64, 67, 0.3), 0px 1px 3px 1px rgba(60, 64, 67, 0.15);\n",
              "      fill: #174EA6;\n",
              "    }\n",
              "\n",
              "    .colab-df-buttons div {\n",
              "      margin-bottom: 4px;\n",
              "    }\n",
              "\n",
              "    [theme=dark] .colab-df-convert {\n",
              "      background-color: #3B4455;\n",
              "      fill: #D2E3FC;\n",
              "    }\n",
              "\n",
              "    [theme=dark] .colab-df-convert:hover {\n",
              "      background-color: #434B5C;\n",
              "      box-shadow: 0px 1px 3px 1px rgba(0, 0, 0, 0.15);\n",
              "      filter: drop-shadow(0px 1px 2px rgba(0, 0, 0, 0.3));\n",
              "      fill: #FFFFFF;\n",
              "    }\n",
              "  </style>\n",
              "\n",
              "    <script>\n",
              "      const buttonEl =\n",
              "        document.querySelector('#df-1f1f158c-2f94-4312-b395-c8eeed4fe817 button.colab-df-convert');\n",
              "      buttonEl.style.display =\n",
              "        google.colab.kernel.accessAllowed ? 'block' : 'none';\n",
              "\n",
              "      async function convertToInteractive(key) {\n",
              "        const element = document.querySelector('#df-1f1f158c-2f94-4312-b395-c8eeed4fe817');\n",
              "        const dataTable =\n",
              "          await google.colab.kernel.invokeFunction('convertToInteractive',\n",
              "                                                    [key], {});\n",
              "        if (!dataTable) return;\n",
              "\n",
              "        const docLinkHtml = 'Like what you see? Visit the ' +\n",
              "          '<a target=\"_blank\" href=https://colab.research.google.com/notebooks/data_table.ipynb>data table notebook</a>'\n",
              "          + ' to learn more about interactive tables.';\n",
              "        element.innerHTML = '';\n",
              "        dataTable['output_type'] = 'display_data';\n",
              "        await google.colab.output.renderOutput(dataTable, element);\n",
              "        const docLink = document.createElement('div');\n",
              "        docLink.innerHTML = docLinkHtml;\n",
              "        element.appendChild(docLink);\n",
              "      }\n",
              "    </script>\n",
              "  </div>\n",
              "\n",
              "\n",
              "  <div id=\"id_04857a74-27c5-467c-893d-e4ac1e2b33b0\">\n",
              "    <style>\n",
              "      .colab-df-generate {\n",
              "        background-color: #E8F0FE;\n",
              "        border: none;\n",
              "        border-radius: 50%;\n",
              "        cursor: pointer;\n",
              "        display: none;\n",
              "        fill: #1967D2;\n",
              "        height: 32px;\n",
              "        padding: 0 0 0 0;\n",
              "        width: 32px;\n",
              "      }\n",
              "\n",
              "      .colab-df-generate:hover {\n",
              "        background-color: #E2EBFA;\n",
              "        box-shadow: 0px 1px 2px rgba(60, 64, 67, 0.3), 0px 1px 3px 1px rgba(60, 64, 67, 0.15);\n",
              "        fill: #174EA6;\n",
              "      }\n",
              "\n",
              "      [theme=dark] .colab-df-generate {\n",
              "        background-color: #3B4455;\n",
              "        fill: #D2E3FC;\n",
              "      }\n",
              "\n",
              "      [theme=dark] .colab-df-generate:hover {\n",
              "        background-color: #434B5C;\n",
              "        box-shadow: 0px 1px 3px 1px rgba(0, 0, 0, 0.15);\n",
              "        filter: drop-shadow(0px 1px 2px rgba(0, 0, 0, 0.3));\n",
              "        fill: #FFFFFF;\n",
              "      }\n",
              "    </style>\n",
              "    <button class=\"colab-df-generate\" onclick=\"generateWithVariable('results')\"\n",
              "            title=\"Generate code using this dataframe.\"\n",
              "            style=\"display:none;\">\n",
              "\n",
              "  <svg xmlns=\"http://www.w3.org/2000/svg\" height=\"24px\"viewBox=\"0 0 24 24\"\n",
              "       width=\"24px\">\n",
              "    <path d=\"M7,19H8.4L18.45,9,17,7.55,7,17.6ZM5,21V16.75L18.45,3.32a2,2,0,0,1,2.83,0l1.4,1.43a1.91,1.91,0,0,1,.58,1.4,1.91,1.91,0,0,1-.58,1.4L9.25,21ZM18.45,9,17,7.55Zm-12,3A5.31,5.31,0,0,0,4.9,8.1,5.31,5.31,0,0,0,1,6.5,5.31,5.31,0,0,0,4.9,4.9,5.31,5.31,0,0,0,6.5,1,5.31,5.31,0,0,0,8.1,4.9,5.31,5.31,0,0,0,12,6.5,5.46,5.46,0,0,0,6.5,12Z\"/>\n",
              "  </svg>\n",
              "    </button>\n",
              "    <script>\n",
              "      (() => {\n",
              "      const buttonEl =\n",
              "        document.querySelector('#id_04857a74-27c5-467c-893d-e4ac1e2b33b0 button.colab-df-generate');\n",
              "      buttonEl.style.display =\n",
              "        google.colab.kernel.accessAllowed ? 'block' : 'none';\n",
              "\n",
              "      buttonEl.onclick = () => {\n",
              "        google.colab.notebook.generateWithVariable('results');\n",
              "      }\n",
              "      })();\n",
              "    </script>\n",
              "  </div>\n",
              "\n",
              "    </div>\n",
              "  </div>\n"
            ],
            "application/vnd.google.colaboratory.intrinsic+json": {
              "type": "dataframe",
              "variable_name": "results",
              "repr_error": "Out of range float values are not JSON compliant: nan"
            }
          },
          "metadata": {},
          "execution_count": 19
        }
      ],
      "source": [
        "# packages required for metrics\n",
        "from sklearn.model_selection import cross_val_predict\n",
        "import time, math\n",
        "from sklearn.metrics import f1_score\n",
        "cols_results=['family','model','classification_rate','runtime']\n",
        "results = pd.DataFrame(columns=cols_results)\n",
        "results"
      ]
    },
    {
      "cell_type": "markdown",
      "metadata": {
        "id": "eXLsBGIhQk5x"
      },
      "source": [
        "# **KNN**"
      ]
    },
    {
      "cell_type": "code",
      "execution_count": 20,
      "metadata": {
        "colab": {
          "base_uri": "https://localhost:8080/",
          "height": 682
        },
        "id": "oWG1Yekr8cxU",
        "outputId": "67b2d1b6-4576-4cbb-9287-246cb4f0b468"
      },
      "outputs": [
        {
          "output_type": "execute_result",
          "data": {
            "text/plain": [
              "   family   model  classification_rate   runtime\n",
              "0     KNN   KNN-1             0.192557  0.389776\n",
              "1     KNN   KNN-2             0.194175  0.319026\n",
              "2     KNN   KNN-3             0.168285  0.263636\n",
              "3     KNN   KNN-4             0.215210  0.224514\n",
              "4     KNN   KNN-5             0.221683  0.049557\n",
              "5     KNN   KNN-6             0.221683  0.154427\n",
              "6     KNN   KNN-7             0.203883  0.178702\n",
              "7     KNN   KNN-8             0.203883  0.051188\n",
              "8     KNN   KNN-9             0.211974  0.060148\n",
              "9     KNN  KNN-10             0.213592  0.157096\n",
              "10    KNN  KNN-11             0.213592  0.064323\n",
              "11    KNN  KNN-12             0.228155  0.220816\n",
              "12    KNN  KNN-13             0.218447  0.129299\n",
              "13    KNN  KNN-14             0.213592  0.208749\n",
              "14    KNN  KNN-15             0.221683  0.070096\n",
              "15    KNN  KNN-16             0.221683  0.063123\n",
              "16    KNN  KNN-17             0.237864  0.186352\n",
              "17    KNN  KNN-18             0.233010  0.090526\n",
              "18    KNN  KNN-19             0.221683  0.111576\n",
              "19    KNN  KNN-20             0.215210  0.147236\n",
              "20    KNN  KNN-21             0.220065  0.295599\n",
              "21    KNN  KNN-22             0.218447  0.064057\n",
              "22    KNN  KNN-23             0.221683  0.061321\n",
              "23    KNN  KNN-24             0.223301  0.071045\n",
              "24    KNN  KNN-25             0.228155  0.083889\n",
              "25    KNN  KNN-26             0.223301  0.085786\n",
              "26    KNN  KNN-27             0.223301  0.165576\n",
              "27    KNN  KNN-28             0.221683  0.054734\n",
              "28    KNN  KNN-29             0.220065  0.201321"
            ],
            "text/html": [
              "\n",
              "  <div id=\"df-ec17706f-f2a4-464b-92bd-fff14dd8119a\" class=\"colab-df-container\">\n",
              "    <div>\n",
              "<style scoped>\n",
              "    .dataframe tbody tr th:only-of-type {\n",
              "        vertical-align: middle;\n",
              "    }\n",
              "\n",
              "    .dataframe tbody tr th {\n",
              "        vertical-align: top;\n",
              "    }\n",
              "\n",
              "    .dataframe thead th {\n",
              "        text-align: right;\n",
              "    }\n",
              "</style>\n",
              "<table border=\"1\" class=\"dataframe\">\n",
              "  <thead>\n",
              "    <tr style=\"text-align: right;\">\n",
              "      <th></th>\n",
              "      <th>family</th>\n",
              "      <th>model</th>\n",
              "      <th>classification_rate</th>\n",
              "      <th>runtime</th>\n",
              "    </tr>\n",
              "  </thead>\n",
              "  <tbody>\n",
              "    <tr>\n",
              "      <th>0</th>\n",
              "      <td>KNN</td>\n",
              "      <td>KNN-1</td>\n",
              "      <td>0.192557</td>\n",
              "      <td>0.389776</td>\n",
              "    </tr>\n",
              "    <tr>\n",
              "      <th>1</th>\n",
              "      <td>KNN</td>\n",
              "      <td>KNN-2</td>\n",
              "      <td>0.194175</td>\n",
              "      <td>0.319026</td>\n",
              "    </tr>\n",
              "    <tr>\n",
              "      <th>2</th>\n",
              "      <td>KNN</td>\n",
              "      <td>KNN-3</td>\n",
              "      <td>0.168285</td>\n",
              "      <td>0.263636</td>\n",
              "    </tr>\n",
              "    <tr>\n",
              "      <th>3</th>\n",
              "      <td>KNN</td>\n",
              "      <td>KNN-4</td>\n",
              "      <td>0.215210</td>\n",
              "      <td>0.224514</td>\n",
              "    </tr>\n",
              "    <tr>\n",
              "      <th>4</th>\n",
              "      <td>KNN</td>\n",
              "      <td>KNN-5</td>\n",
              "      <td>0.221683</td>\n",
              "      <td>0.049557</td>\n",
              "    </tr>\n",
              "    <tr>\n",
              "      <th>5</th>\n",
              "      <td>KNN</td>\n",
              "      <td>KNN-6</td>\n",
              "      <td>0.221683</td>\n",
              "      <td>0.154427</td>\n",
              "    </tr>\n",
              "    <tr>\n",
              "      <th>6</th>\n",
              "      <td>KNN</td>\n",
              "      <td>KNN-7</td>\n",
              "      <td>0.203883</td>\n",
              "      <td>0.178702</td>\n",
              "    </tr>\n",
              "    <tr>\n",
              "      <th>7</th>\n",
              "      <td>KNN</td>\n",
              "      <td>KNN-8</td>\n",
              "      <td>0.203883</td>\n",
              "      <td>0.051188</td>\n",
              "    </tr>\n",
              "    <tr>\n",
              "      <th>8</th>\n",
              "      <td>KNN</td>\n",
              "      <td>KNN-9</td>\n",
              "      <td>0.211974</td>\n",
              "      <td>0.060148</td>\n",
              "    </tr>\n",
              "    <tr>\n",
              "      <th>9</th>\n",
              "      <td>KNN</td>\n",
              "      <td>KNN-10</td>\n",
              "      <td>0.213592</td>\n",
              "      <td>0.157096</td>\n",
              "    </tr>\n",
              "    <tr>\n",
              "      <th>10</th>\n",
              "      <td>KNN</td>\n",
              "      <td>KNN-11</td>\n",
              "      <td>0.213592</td>\n",
              "      <td>0.064323</td>\n",
              "    </tr>\n",
              "    <tr>\n",
              "      <th>11</th>\n",
              "      <td>KNN</td>\n",
              "      <td>KNN-12</td>\n",
              "      <td>0.228155</td>\n",
              "      <td>0.220816</td>\n",
              "    </tr>\n",
              "    <tr>\n",
              "      <th>12</th>\n",
              "      <td>KNN</td>\n",
              "      <td>KNN-13</td>\n",
              "      <td>0.218447</td>\n",
              "      <td>0.129299</td>\n",
              "    </tr>\n",
              "    <tr>\n",
              "      <th>13</th>\n",
              "      <td>KNN</td>\n",
              "      <td>KNN-14</td>\n",
              "      <td>0.213592</td>\n",
              "      <td>0.208749</td>\n",
              "    </tr>\n",
              "    <tr>\n",
              "      <th>14</th>\n",
              "      <td>KNN</td>\n",
              "      <td>KNN-15</td>\n",
              "      <td>0.221683</td>\n",
              "      <td>0.070096</td>\n",
              "    </tr>\n",
              "    <tr>\n",
              "      <th>15</th>\n",
              "      <td>KNN</td>\n",
              "      <td>KNN-16</td>\n",
              "      <td>0.221683</td>\n",
              "      <td>0.063123</td>\n",
              "    </tr>\n",
              "    <tr>\n",
              "      <th>16</th>\n",
              "      <td>KNN</td>\n",
              "      <td>KNN-17</td>\n",
              "      <td>0.237864</td>\n",
              "      <td>0.186352</td>\n",
              "    </tr>\n",
              "    <tr>\n",
              "      <th>17</th>\n",
              "      <td>KNN</td>\n",
              "      <td>KNN-18</td>\n",
              "      <td>0.233010</td>\n",
              "      <td>0.090526</td>\n",
              "    </tr>\n",
              "    <tr>\n",
              "      <th>18</th>\n",
              "      <td>KNN</td>\n",
              "      <td>KNN-19</td>\n",
              "      <td>0.221683</td>\n",
              "      <td>0.111576</td>\n",
              "    </tr>\n",
              "    <tr>\n",
              "      <th>19</th>\n",
              "      <td>KNN</td>\n",
              "      <td>KNN-20</td>\n",
              "      <td>0.215210</td>\n",
              "      <td>0.147236</td>\n",
              "    </tr>\n",
              "    <tr>\n",
              "      <th>20</th>\n",
              "      <td>KNN</td>\n",
              "      <td>KNN-21</td>\n",
              "      <td>0.220065</td>\n",
              "      <td>0.295599</td>\n",
              "    </tr>\n",
              "    <tr>\n",
              "      <th>21</th>\n",
              "      <td>KNN</td>\n",
              "      <td>KNN-22</td>\n",
              "      <td>0.218447</td>\n",
              "      <td>0.064057</td>\n",
              "    </tr>\n",
              "    <tr>\n",
              "      <th>22</th>\n",
              "      <td>KNN</td>\n",
              "      <td>KNN-23</td>\n",
              "      <td>0.221683</td>\n",
              "      <td>0.061321</td>\n",
              "    </tr>\n",
              "    <tr>\n",
              "      <th>23</th>\n",
              "      <td>KNN</td>\n",
              "      <td>KNN-24</td>\n",
              "      <td>0.223301</td>\n",
              "      <td>0.071045</td>\n",
              "    </tr>\n",
              "    <tr>\n",
              "      <th>24</th>\n",
              "      <td>KNN</td>\n",
              "      <td>KNN-25</td>\n",
              "      <td>0.228155</td>\n",
              "      <td>0.083889</td>\n",
              "    </tr>\n",
              "    <tr>\n",
              "      <th>25</th>\n",
              "      <td>KNN</td>\n",
              "      <td>KNN-26</td>\n",
              "      <td>0.223301</td>\n",
              "      <td>0.085786</td>\n",
              "    </tr>\n",
              "    <tr>\n",
              "      <th>26</th>\n",
              "      <td>KNN</td>\n",
              "      <td>KNN-27</td>\n",
              "      <td>0.223301</td>\n",
              "      <td>0.165576</td>\n",
              "    </tr>\n",
              "    <tr>\n",
              "      <th>27</th>\n",
              "      <td>KNN</td>\n",
              "      <td>KNN-28</td>\n",
              "      <td>0.221683</td>\n",
              "      <td>0.054734</td>\n",
              "    </tr>\n",
              "    <tr>\n",
              "      <th>28</th>\n",
              "      <td>KNN</td>\n",
              "      <td>KNN-29</td>\n",
              "      <td>0.220065</td>\n",
              "      <td>0.201321</td>\n",
              "    </tr>\n",
              "  </tbody>\n",
              "</table>\n",
              "</div>\n",
              "    <div class=\"colab-df-buttons\">\n",
              "\n",
              "  <div class=\"colab-df-container\">\n",
              "    <button class=\"colab-df-convert\" onclick=\"convertToInteractive('df-ec17706f-f2a4-464b-92bd-fff14dd8119a')\"\n",
              "            title=\"Convert this dataframe to an interactive table.\"\n",
              "            style=\"display:none;\">\n",
              "\n",
              "  <svg xmlns=\"http://www.w3.org/2000/svg\" height=\"24px\" viewBox=\"0 -960 960 960\">\n",
              "    <path d=\"M120-120v-720h720v720H120Zm60-500h600v-160H180v160Zm220 220h160v-160H400v160Zm0 220h160v-160H400v160ZM180-400h160v-160H180v160Zm440 0h160v-160H620v160ZM180-180h160v-160H180v160Zm440 0h160v-160H620v160Z\"/>\n",
              "  </svg>\n",
              "    </button>\n",
              "\n",
              "  <style>\n",
              "    .colab-df-container {\n",
              "      display:flex;\n",
              "      gap: 12px;\n",
              "    }\n",
              "\n",
              "    .colab-df-convert {\n",
              "      background-color: #E8F0FE;\n",
              "      border: none;\n",
              "      border-radius: 50%;\n",
              "      cursor: pointer;\n",
              "      display: none;\n",
              "      fill: #1967D2;\n",
              "      height: 32px;\n",
              "      padding: 0 0 0 0;\n",
              "      width: 32px;\n",
              "    }\n",
              "\n",
              "    .colab-df-convert:hover {\n",
              "      background-color: #E2EBFA;\n",
              "      box-shadow: 0px 1px 2px rgba(60, 64, 67, 0.3), 0px 1px 3px 1px rgba(60, 64, 67, 0.15);\n",
              "      fill: #174EA6;\n",
              "    }\n",
              "\n",
              "    .colab-df-buttons div {\n",
              "      margin-bottom: 4px;\n",
              "    }\n",
              "\n",
              "    [theme=dark] .colab-df-convert {\n",
              "      background-color: #3B4455;\n",
              "      fill: #D2E3FC;\n",
              "    }\n",
              "\n",
              "    [theme=dark] .colab-df-convert:hover {\n",
              "      background-color: #434B5C;\n",
              "      box-shadow: 0px 1px 3px 1px rgba(0, 0, 0, 0.15);\n",
              "      filter: drop-shadow(0px 1px 2px rgba(0, 0, 0, 0.3));\n",
              "      fill: #FFFFFF;\n",
              "    }\n",
              "  </style>\n",
              "\n",
              "    <script>\n",
              "      const buttonEl =\n",
              "        document.querySelector('#df-ec17706f-f2a4-464b-92bd-fff14dd8119a button.colab-df-convert');\n",
              "      buttonEl.style.display =\n",
              "        google.colab.kernel.accessAllowed ? 'block' : 'none';\n",
              "\n",
              "      async function convertToInteractive(key) {\n",
              "        const element = document.querySelector('#df-ec17706f-f2a4-464b-92bd-fff14dd8119a');\n",
              "        const dataTable =\n",
              "          await google.colab.kernel.invokeFunction('convertToInteractive',\n",
              "                                                    [key], {});\n",
              "        if (!dataTable) return;\n",
              "\n",
              "        const docLinkHtml = 'Like what you see? Visit the ' +\n",
              "          '<a target=\"_blank\" href=https://colab.research.google.com/notebooks/data_table.ipynb>data table notebook</a>'\n",
              "          + ' to learn more about interactive tables.';\n",
              "        element.innerHTML = '';\n",
              "        dataTable['output_type'] = 'display_data';\n",
              "        await google.colab.output.renderOutput(dataTable, element);\n",
              "        const docLink = document.createElement('div');\n",
              "        docLink.innerHTML = docLinkHtml;\n",
              "        element.appendChild(docLink);\n",
              "      }\n",
              "    </script>\n",
              "  </div>\n",
              "\n",
              "\n",
              "<div id=\"df-9d97425b-e7ae-4d8d-9a19-8ff22c8401b3\">\n",
              "  <button class=\"colab-df-quickchart\" onclick=\"quickchart('df-9d97425b-e7ae-4d8d-9a19-8ff22c8401b3')\"\n",
              "            title=\"Suggest charts\"\n",
              "            style=\"display:none;\">\n",
              "\n",
              "<svg xmlns=\"http://www.w3.org/2000/svg\" height=\"24px\"viewBox=\"0 0 24 24\"\n",
              "     width=\"24px\">\n",
              "    <g>\n",
              "        <path d=\"M19 3H5c-1.1 0-2 .9-2 2v14c0 1.1.9 2 2 2h14c1.1 0 2-.9 2-2V5c0-1.1-.9-2-2-2zM9 17H7v-7h2v7zm4 0h-2V7h2v10zm4 0h-2v-4h2v4z\"/>\n",
              "    </g>\n",
              "</svg>\n",
              "  </button>\n",
              "\n",
              "<style>\n",
              "  .colab-df-quickchart {\n",
              "      --bg-color: #E8F0FE;\n",
              "      --fill-color: #1967D2;\n",
              "      --hover-bg-color: #E2EBFA;\n",
              "      --hover-fill-color: #174EA6;\n",
              "      --disabled-fill-color: #AAA;\n",
              "      --disabled-bg-color: #DDD;\n",
              "  }\n",
              "\n",
              "  [theme=dark] .colab-df-quickchart {\n",
              "      --bg-color: #3B4455;\n",
              "      --fill-color: #D2E3FC;\n",
              "      --hover-bg-color: #434B5C;\n",
              "      --hover-fill-color: #FFFFFF;\n",
              "      --disabled-bg-color: #3B4455;\n",
              "      --disabled-fill-color: #666;\n",
              "  }\n",
              "\n",
              "  .colab-df-quickchart {\n",
              "    background-color: var(--bg-color);\n",
              "    border: none;\n",
              "    border-radius: 50%;\n",
              "    cursor: pointer;\n",
              "    display: none;\n",
              "    fill: var(--fill-color);\n",
              "    height: 32px;\n",
              "    padding: 0;\n",
              "    width: 32px;\n",
              "  }\n",
              "\n",
              "  .colab-df-quickchart:hover {\n",
              "    background-color: var(--hover-bg-color);\n",
              "    box-shadow: 0 1px 2px rgba(60, 64, 67, 0.3), 0 1px 3px 1px rgba(60, 64, 67, 0.15);\n",
              "    fill: var(--button-hover-fill-color);\n",
              "  }\n",
              "\n",
              "  .colab-df-quickchart-complete:disabled,\n",
              "  .colab-df-quickchart-complete:disabled:hover {\n",
              "    background-color: var(--disabled-bg-color);\n",
              "    fill: var(--disabled-fill-color);\n",
              "    box-shadow: none;\n",
              "  }\n",
              "\n",
              "  .colab-df-spinner {\n",
              "    border: 2px solid var(--fill-color);\n",
              "    border-color: transparent;\n",
              "    border-bottom-color: var(--fill-color);\n",
              "    animation:\n",
              "      spin 1s steps(1) infinite;\n",
              "  }\n",
              "\n",
              "  @keyframes spin {\n",
              "    0% {\n",
              "      border-color: transparent;\n",
              "      border-bottom-color: var(--fill-color);\n",
              "      border-left-color: var(--fill-color);\n",
              "    }\n",
              "    20% {\n",
              "      border-color: transparent;\n",
              "      border-left-color: var(--fill-color);\n",
              "      border-top-color: var(--fill-color);\n",
              "    }\n",
              "    30% {\n",
              "      border-color: transparent;\n",
              "      border-left-color: var(--fill-color);\n",
              "      border-top-color: var(--fill-color);\n",
              "      border-right-color: var(--fill-color);\n",
              "    }\n",
              "    40% {\n",
              "      border-color: transparent;\n",
              "      border-right-color: var(--fill-color);\n",
              "      border-top-color: var(--fill-color);\n",
              "    }\n",
              "    60% {\n",
              "      border-color: transparent;\n",
              "      border-right-color: var(--fill-color);\n",
              "    }\n",
              "    80% {\n",
              "      border-color: transparent;\n",
              "      border-right-color: var(--fill-color);\n",
              "      border-bottom-color: var(--fill-color);\n",
              "    }\n",
              "    90% {\n",
              "      border-color: transparent;\n",
              "      border-bottom-color: var(--fill-color);\n",
              "    }\n",
              "  }\n",
              "</style>\n",
              "\n",
              "  <script>\n",
              "    async function quickchart(key) {\n",
              "      const quickchartButtonEl =\n",
              "        document.querySelector('#' + key + ' button');\n",
              "      quickchartButtonEl.disabled = true;  // To prevent multiple clicks.\n",
              "      quickchartButtonEl.classList.add('colab-df-spinner');\n",
              "      try {\n",
              "        const charts = await google.colab.kernel.invokeFunction(\n",
              "            'suggestCharts', [key], {});\n",
              "      } catch (error) {\n",
              "        console.error('Error during call to suggestCharts:', error);\n",
              "      }\n",
              "      quickchartButtonEl.classList.remove('colab-df-spinner');\n",
              "      quickchartButtonEl.classList.add('colab-df-quickchart-complete');\n",
              "    }\n",
              "    (() => {\n",
              "      let quickchartButtonEl =\n",
              "        document.querySelector('#df-9d97425b-e7ae-4d8d-9a19-8ff22c8401b3 button');\n",
              "      quickchartButtonEl.style.display =\n",
              "        google.colab.kernel.accessAllowed ? 'block' : 'none';\n",
              "    })();\n",
              "  </script>\n",
              "</div>\n",
              "\n",
              "    </div>\n",
              "  </div>\n"
            ],
            "application/vnd.google.colaboratory.intrinsic+json": {
              "type": "dataframe",
              "summary": "{\n  \"name\": \"results[results\",\n  \"rows\": 29,\n  \"fields\": [\n    {\n      \"column\": \"family\",\n      \"properties\": {\n        \"dtype\": \"category\",\n        \"num_unique_values\": 1,\n        \"samples\": [\n          \"KNN\"\n        ],\n        \"semantic_type\": \"\",\n        \"description\": \"\"\n      }\n    },\n    {\n      \"column\": \"model\",\n      \"properties\": {\n        \"dtype\": \"string\",\n        \"num_unique_values\": 29,\n        \"samples\": [\n          \"KNN-28\"\n        ],\n        \"semantic_type\": \"\",\n        \"description\": \"\"\n      }\n    },\n    {\n      \"column\": \"classification_rate\",\n      \"properties\": {\n        \"dtype\": \"number\",\n        \"std\": 0.013526273856556373,\n        \"min\": 0.16828478964401294,\n        \"max\": 0.23786407766990292,\n        \"num_unique_values\": 14,\n        \"samples\": [\n          0.21844660194174756\n        ],\n        \"semantic_type\": \"\",\n        \"description\": \"\"\n      }\n    },\n    {\n      \"column\": \"runtime\",\n      \"properties\": {\n        \"dtype\": \"number\",\n        \"std\": 0.09111127286849031,\n        \"min\": 0.04955744743347168,\n        \"max\": 0.38977599143981934,\n        \"num_unique_values\": 29,\n        \"samples\": [\n          0.05473446846008301\n        ],\n        \"semantic_type\": \"\",\n        \"description\": \"\"\n      }\n    }\n  ]\n}"
            }
          },
          "metadata": {},
          "execution_count": 20
        }
      ],
      "source": [
        "from sklearn.neighbors import KNeighborsClassifier\n",
        "kVals = range(1,30)\n",
        "knn_names = ['KNN-'+str(k) for k in kVals]\n",
        "for k in kVals:\n",
        "    knn = KNeighborsClassifier(n_neighbors=k)\n",
        "    knn.fit(X_train, y_train)\n",
        "    time_start = time.time()\n",
        "    y_pred = knn.predict(X_test)\n",
        "    time_run = time.time()-time_start\n",
        "    new_row = pd.DataFrame([['KNN',knn_names[k-1],f1_score(y_test,y_pred,average='micro'),time_run]],columns=cols_results)\n",
        "    results = pd.concat([results, new_row], ignore_index=True)\n",
        "results[results.family=='KNN']"
      ]
    },
    {
      "cell_type": "markdown",
      "metadata": {
        "id": "MVaUYV2JQrYn"
      },
      "source": [
        "# **Random Forest**"
      ]
    },
    {
      "cell_type": "code",
      "execution_count": 23,
      "metadata": {
        "colab": {
          "base_uri": "https://localhost:8080/",
          "height": 682
        },
        "id": "WwO-dDiW-9Sg",
        "outputId": "a9f75cdc-7d8d-42a2-f851-9fc54eee863f"
      },
      "outputs": [
        {
          "output_type": "execute_result",
          "data": {
            "text/plain": [
              "    family               model  classification_rate   runtime\n",
              "29      RF    RF-10-100-10-10              0.242718  0.026994\n",
              "30      RF    RF-10-100-10-20              0.255663  0.022812\n",
              "31      RF    RF-10-100-10-30              0.242718  0.021369\n",
              "32      RF    RF-10-100-10-40              0.257282  0.021989\n",
              "33      RF    RF-10-100-20-10              0.242718  0.023352\n",
              "..     ...                 ...                  ...       ...\n",
              "120     RF  RF-1000-100-30-40              0.257282  1.820341\n",
              "121     RF  RF-1000-100-40-10              0.260518  2.131024\n",
              "122     RF  RF-1000-100-40-20              0.255663  1.949400\n",
              "123     RF  RF-1000-100-40-30              0.247573  2.116436\n",
              "124     RF  RF-1000-100-40-40              0.257282  2.424828\n",
              "\n",
              "[96 rows x 4 columns]"
            ],
            "text/html": [
              "\n",
              "  <div id=\"df-de10fd80-97c4-4233-9d4f-3a980654294e\" class=\"colab-df-container\">\n",
              "    <div>\n",
              "<style scoped>\n",
              "    .dataframe tbody tr th:only-of-type {\n",
              "        vertical-align: middle;\n",
              "    }\n",
              "\n",
              "    .dataframe tbody tr th {\n",
              "        vertical-align: top;\n",
              "    }\n",
              "\n",
              "    .dataframe thead th {\n",
              "        text-align: right;\n",
              "    }\n",
              "</style>\n",
              "<table border=\"1\" class=\"dataframe\">\n",
              "  <thead>\n",
              "    <tr style=\"text-align: right;\">\n",
              "      <th></th>\n",
              "      <th>family</th>\n",
              "      <th>model</th>\n",
              "      <th>classification_rate</th>\n",
              "      <th>runtime</th>\n",
              "    </tr>\n",
              "  </thead>\n",
              "  <tbody>\n",
              "    <tr>\n",
              "      <th>29</th>\n",
              "      <td>RF</td>\n",
              "      <td>RF-10-100-10-10</td>\n",
              "      <td>0.242718</td>\n",
              "      <td>0.026994</td>\n",
              "    </tr>\n",
              "    <tr>\n",
              "      <th>30</th>\n",
              "      <td>RF</td>\n",
              "      <td>RF-10-100-10-20</td>\n",
              "      <td>0.255663</td>\n",
              "      <td>0.022812</td>\n",
              "    </tr>\n",
              "    <tr>\n",
              "      <th>31</th>\n",
              "      <td>RF</td>\n",
              "      <td>RF-10-100-10-30</td>\n",
              "      <td>0.242718</td>\n",
              "      <td>0.021369</td>\n",
              "    </tr>\n",
              "    <tr>\n",
              "      <th>32</th>\n",
              "      <td>RF</td>\n",
              "      <td>RF-10-100-10-40</td>\n",
              "      <td>0.257282</td>\n",
              "      <td>0.021989</td>\n",
              "    </tr>\n",
              "    <tr>\n",
              "      <th>33</th>\n",
              "      <td>RF</td>\n",
              "      <td>RF-10-100-20-10</td>\n",
              "      <td>0.242718</td>\n",
              "      <td>0.023352</td>\n",
              "    </tr>\n",
              "    <tr>\n",
              "      <th>...</th>\n",
              "      <td>...</td>\n",
              "      <td>...</td>\n",
              "      <td>...</td>\n",
              "      <td>...</td>\n",
              "    </tr>\n",
              "    <tr>\n",
              "      <th>120</th>\n",
              "      <td>RF</td>\n",
              "      <td>RF-1000-100-30-40</td>\n",
              "      <td>0.257282</td>\n",
              "      <td>1.820341</td>\n",
              "    </tr>\n",
              "    <tr>\n",
              "      <th>121</th>\n",
              "      <td>RF</td>\n",
              "      <td>RF-1000-100-40-10</td>\n",
              "      <td>0.260518</td>\n",
              "      <td>2.131024</td>\n",
              "    </tr>\n",
              "    <tr>\n",
              "      <th>122</th>\n",
              "      <td>RF</td>\n",
              "      <td>RF-1000-100-40-20</td>\n",
              "      <td>0.255663</td>\n",
              "      <td>1.949400</td>\n",
              "    </tr>\n",
              "    <tr>\n",
              "      <th>123</th>\n",
              "      <td>RF</td>\n",
              "      <td>RF-1000-100-40-30</td>\n",
              "      <td>0.247573</td>\n",
              "      <td>2.116436</td>\n",
              "    </tr>\n",
              "    <tr>\n",
              "      <th>124</th>\n",
              "      <td>RF</td>\n",
              "      <td>RF-1000-100-40-40</td>\n",
              "      <td>0.257282</td>\n",
              "      <td>2.424828</td>\n",
              "    </tr>\n",
              "  </tbody>\n",
              "</table>\n",
              "<p>96 rows × 4 columns</p>\n",
              "</div>\n",
              "    <div class=\"colab-df-buttons\">\n",
              "\n",
              "  <div class=\"colab-df-container\">\n",
              "    <button class=\"colab-df-convert\" onclick=\"convertToInteractive('df-de10fd80-97c4-4233-9d4f-3a980654294e')\"\n",
              "            title=\"Convert this dataframe to an interactive table.\"\n",
              "            style=\"display:none;\">\n",
              "\n",
              "  <svg xmlns=\"http://www.w3.org/2000/svg\" height=\"24px\" viewBox=\"0 -960 960 960\">\n",
              "    <path d=\"M120-120v-720h720v720H120Zm60-500h600v-160H180v160Zm220 220h160v-160H400v160Zm0 220h160v-160H400v160ZM180-400h160v-160H180v160Zm440 0h160v-160H620v160ZM180-180h160v-160H180v160Zm440 0h160v-160H620v160Z\"/>\n",
              "  </svg>\n",
              "    </button>\n",
              "\n",
              "  <style>\n",
              "    .colab-df-container {\n",
              "      display:flex;\n",
              "      gap: 12px;\n",
              "    }\n",
              "\n",
              "    .colab-df-convert {\n",
              "      background-color: #E8F0FE;\n",
              "      border: none;\n",
              "      border-radius: 50%;\n",
              "      cursor: pointer;\n",
              "      display: none;\n",
              "      fill: #1967D2;\n",
              "      height: 32px;\n",
              "      padding: 0 0 0 0;\n",
              "      width: 32px;\n",
              "    }\n",
              "\n",
              "    .colab-df-convert:hover {\n",
              "      background-color: #E2EBFA;\n",
              "      box-shadow: 0px 1px 2px rgba(60, 64, 67, 0.3), 0px 1px 3px 1px rgba(60, 64, 67, 0.15);\n",
              "      fill: #174EA6;\n",
              "    }\n",
              "\n",
              "    .colab-df-buttons div {\n",
              "      margin-bottom: 4px;\n",
              "    }\n",
              "\n",
              "    [theme=dark] .colab-df-convert {\n",
              "      background-color: #3B4455;\n",
              "      fill: #D2E3FC;\n",
              "    }\n",
              "\n",
              "    [theme=dark] .colab-df-convert:hover {\n",
              "      background-color: #434B5C;\n",
              "      box-shadow: 0px 1px 3px 1px rgba(0, 0, 0, 0.15);\n",
              "      filter: drop-shadow(0px 1px 2px rgba(0, 0, 0, 0.3));\n",
              "      fill: #FFFFFF;\n",
              "    }\n",
              "  </style>\n",
              "\n",
              "    <script>\n",
              "      const buttonEl =\n",
              "        document.querySelector('#df-de10fd80-97c4-4233-9d4f-3a980654294e button.colab-df-convert');\n",
              "      buttonEl.style.display =\n",
              "        google.colab.kernel.accessAllowed ? 'block' : 'none';\n",
              "\n",
              "      async function convertToInteractive(key) {\n",
              "        const element = document.querySelector('#df-de10fd80-97c4-4233-9d4f-3a980654294e');\n",
              "        const dataTable =\n",
              "          await google.colab.kernel.invokeFunction('convertToInteractive',\n",
              "                                                    [key], {});\n",
              "        if (!dataTable) return;\n",
              "\n",
              "        const docLinkHtml = 'Like what you see? Visit the ' +\n",
              "          '<a target=\"_blank\" href=https://colab.research.google.com/notebooks/data_table.ipynb>data table notebook</a>'\n",
              "          + ' to learn more about interactive tables.';\n",
              "        element.innerHTML = '';\n",
              "        dataTable['output_type'] = 'display_data';\n",
              "        await google.colab.output.renderOutput(dataTable, element);\n",
              "        const docLink = document.createElement('div');\n",
              "        docLink.innerHTML = docLinkHtml;\n",
              "        element.appendChild(docLink);\n",
              "      }\n",
              "    </script>\n",
              "  </div>\n",
              "\n",
              "\n",
              "<div id=\"df-9e213dfb-43cf-433e-b2c6-b091ca105289\">\n",
              "  <button class=\"colab-df-quickchart\" onclick=\"quickchart('df-9e213dfb-43cf-433e-b2c6-b091ca105289')\"\n",
              "            title=\"Suggest charts\"\n",
              "            style=\"display:none;\">\n",
              "\n",
              "<svg xmlns=\"http://www.w3.org/2000/svg\" height=\"24px\"viewBox=\"0 0 24 24\"\n",
              "     width=\"24px\">\n",
              "    <g>\n",
              "        <path d=\"M19 3H5c-1.1 0-2 .9-2 2v14c0 1.1.9 2 2 2h14c1.1 0 2-.9 2-2V5c0-1.1-.9-2-2-2zM9 17H7v-7h2v7zm4 0h-2V7h2v10zm4 0h-2v-4h2v4z\"/>\n",
              "    </g>\n",
              "</svg>\n",
              "  </button>\n",
              "\n",
              "<style>\n",
              "  .colab-df-quickchart {\n",
              "      --bg-color: #E8F0FE;\n",
              "      --fill-color: #1967D2;\n",
              "      --hover-bg-color: #E2EBFA;\n",
              "      --hover-fill-color: #174EA6;\n",
              "      --disabled-fill-color: #AAA;\n",
              "      --disabled-bg-color: #DDD;\n",
              "  }\n",
              "\n",
              "  [theme=dark] .colab-df-quickchart {\n",
              "      --bg-color: #3B4455;\n",
              "      --fill-color: #D2E3FC;\n",
              "      --hover-bg-color: #434B5C;\n",
              "      --hover-fill-color: #FFFFFF;\n",
              "      --disabled-bg-color: #3B4455;\n",
              "      --disabled-fill-color: #666;\n",
              "  }\n",
              "\n",
              "  .colab-df-quickchart {\n",
              "    background-color: var(--bg-color);\n",
              "    border: none;\n",
              "    border-radius: 50%;\n",
              "    cursor: pointer;\n",
              "    display: none;\n",
              "    fill: var(--fill-color);\n",
              "    height: 32px;\n",
              "    padding: 0;\n",
              "    width: 32px;\n",
              "  }\n",
              "\n",
              "  .colab-df-quickchart:hover {\n",
              "    background-color: var(--hover-bg-color);\n",
              "    box-shadow: 0 1px 2px rgba(60, 64, 67, 0.3), 0 1px 3px 1px rgba(60, 64, 67, 0.15);\n",
              "    fill: var(--button-hover-fill-color);\n",
              "  }\n",
              "\n",
              "  .colab-df-quickchart-complete:disabled,\n",
              "  .colab-df-quickchart-complete:disabled:hover {\n",
              "    background-color: var(--disabled-bg-color);\n",
              "    fill: var(--disabled-fill-color);\n",
              "    box-shadow: none;\n",
              "  }\n",
              "\n",
              "  .colab-df-spinner {\n",
              "    border: 2px solid var(--fill-color);\n",
              "    border-color: transparent;\n",
              "    border-bottom-color: var(--fill-color);\n",
              "    animation:\n",
              "      spin 1s steps(1) infinite;\n",
              "  }\n",
              "\n",
              "  @keyframes spin {\n",
              "    0% {\n",
              "      border-color: transparent;\n",
              "      border-bottom-color: var(--fill-color);\n",
              "      border-left-color: var(--fill-color);\n",
              "    }\n",
              "    20% {\n",
              "      border-color: transparent;\n",
              "      border-left-color: var(--fill-color);\n",
              "      border-top-color: var(--fill-color);\n",
              "    }\n",
              "    30% {\n",
              "      border-color: transparent;\n",
              "      border-left-color: var(--fill-color);\n",
              "      border-top-color: var(--fill-color);\n",
              "      border-right-color: var(--fill-color);\n",
              "    }\n",
              "    40% {\n",
              "      border-color: transparent;\n",
              "      border-right-color: var(--fill-color);\n",
              "      border-top-color: var(--fill-color);\n",
              "    }\n",
              "    60% {\n",
              "      border-color: transparent;\n",
              "      border-right-color: var(--fill-color);\n",
              "    }\n",
              "    80% {\n",
              "      border-color: transparent;\n",
              "      border-right-color: var(--fill-color);\n",
              "      border-bottom-color: var(--fill-color);\n",
              "    }\n",
              "    90% {\n",
              "      border-color: transparent;\n",
              "      border-bottom-color: var(--fill-color);\n",
              "    }\n",
              "  }\n",
              "</style>\n",
              "\n",
              "  <script>\n",
              "    async function quickchart(key) {\n",
              "      const quickchartButtonEl =\n",
              "        document.querySelector('#' + key + ' button');\n",
              "      quickchartButtonEl.disabled = true;  // To prevent multiple clicks.\n",
              "      quickchartButtonEl.classList.add('colab-df-spinner');\n",
              "      try {\n",
              "        const charts = await google.colab.kernel.invokeFunction(\n",
              "            'suggestCharts', [key], {});\n",
              "      } catch (error) {\n",
              "        console.error('Error during call to suggestCharts:', error);\n",
              "      }\n",
              "      quickchartButtonEl.classList.remove('colab-df-spinner');\n",
              "      quickchartButtonEl.classList.add('colab-df-quickchart-complete');\n",
              "    }\n",
              "    (() => {\n",
              "      let quickchartButtonEl =\n",
              "        document.querySelector('#df-9e213dfb-43cf-433e-b2c6-b091ca105289 button');\n",
              "      quickchartButtonEl.style.display =\n",
              "        google.colab.kernel.accessAllowed ? 'block' : 'none';\n",
              "    })();\n",
              "  </script>\n",
              "</div>\n",
              "\n",
              "    </div>\n",
              "  </div>\n"
            ],
            "application/vnd.google.colaboratory.intrinsic+json": {
              "type": "dataframe",
              "summary": "{\n  \"name\": \"results[results\",\n  \"rows\": 96,\n  \"fields\": [\n    {\n      \"column\": \"family\",\n      \"properties\": {\n        \"dtype\": \"category\",\n        \"num_unique_values\": 1,\n        \"samples\": [\n          \"RF\"\n        ],\n        \"semantic_type\": \"\",\n        \"description\": \"\"\n      }\n    },\n    {\n      \"column\": \"model\",\n      \"properties\": {\n        \"dtype\": \"string\",\n        \"num_unique_values\": 48,\n        \"samples\": [\n          \"RF-100-100-30-40 \"\n        ],\n        \"semantic_type\": \"\",\n        \"description\": \"\"\n      }\n    },\n    {\n      \"column\": \"classification_rate\",\n      \"properties\": {\n        \"dtype\": \"number\",\n        \"std\": 0.006274929418037399,\n        \"min\": 0.24271844660194175,\n        \"max\": 0.2702265372168285,\n        \"num_unique_values\": 9,\n        \"samples\": [\n          0.24757281553398058\n        ],\n        \"semantic_type\": \"\",\n        \"description\": \"\"\n      }\n    },\n    {\n      \"column\": \"runtime\",\n      \"properties\": {\n        \"dtype\": \"number\",\n        \"std\": 1.270090900871161,\n        \"min\": 0.02067732810974121,\n        \"max\": 5.596637964248657,\n        \"num_unique_values\": 96,\n        \"samples\": [\n          2.166511058807373\n        ],\n        \"semantic_type\": \"\",\n        \"description\": \"\"\n      }\n    }\n  ]\n}"
            }
          },
          "metadata": {},
          "execution_count": 23
        }
      ],
      "source": [
        "from sklearn.ensemble import RandomForestClassifier\n",
        "import math\n",
        "rVals = range(1,4)\n",
        "maxd = range(2,3)\n",
        "ind = -1\n",
        "min_samp = [10*i for i in range(1,5)]\n",
        "min_samp_leaf = [10*i for i in range(1,5)]\n",
        "rf_names = ['RF-'+str(int(math.pow(10,r))) + '-' + str(int(math.pow(10,d))) + '-' + str(int(s1)) + '-' + str(int(s2)) + ' '   for r in rVals for d in maxd for s1 in min_samp_leaf for s2 in min_samp]\n",
        "for r in rVals:\n",
        "  for d in maxd:\n",
        "    for s1 in min_samp:\n",
        "      for s2 in min_samp_leaf:\n",
        "        ind = ind + 1\n",
        "        clf = RandomForestClassifier(n_estimators=int(math.pow(10,r)),max_depth=int(math.pow(10,d)),min_samples_split=s1,min_samples_leaf=s2,random_state=42)\n",
        "        time_start = time.time()\n",
        "        clf.fit(X_train,y_train)\n",
        "        time_run = time.time()-time_start\n",
        "        y_pred=clf.predict(X_test)\n",
        "        results = pd.concat([results, pd.DataFrame([['RF',rf_names[ind],f1_score(y_test,y_pred,average='micro'),time_run]],columns=cols_results)],ignore_index=True)\n",
        "\n",
        "results[results.family == 'RF']\n"
      ]
    },
    {
      "cell_type": "code",
      "execution_count": 24,
      "metadata": {
        "colab": {
          "base_uri": "https://localhost:8080/"
        },
        "id": "YVcolW_X_sHR",
        "outputId": "b8bee180-1f33-4c46-be67-fcd697b3be70"
      },
      "outputs": [
        {
          "output_type": "execute_result",
          "data": {
            "text/plain": [
              "0.24271844660194175"
            ]
          },
          "metadata": {},
          "execution_count": 24
        }
      ],
      "source": [
        "from sklearn import svm\n",
        "clf = svm.SVC(kernel = 'sigmoid')\n",
        "clf.fit(X_train, y_train)\n",
        "time_run = time.time()-time_start\n",
        "y_pred=clf.predict(X_test)\n",
        "f1_score(y_test,y_pred,average = 'micro')"
      ]
    },
    {
      "cell_type": "code",
      "source": [
        "knn_results = results[results.family == 'KNN']\n",
        "rf_results = results[results.family == 'RF']\n",
        "knn_results = knn_results.sort_values(by='classification_rate', ascending=False)\n",
        "rf_results = rf_results.sort_values(by='classification_rate', ascending=False)\n",
        "rf_results.to_latex(index = False)"
      ],
      "metadata": {
        "colab": {
          "base_uri": "https://localhost:8080/",
          "height": 1000
        },
        "id": "laHMF47fa3yz",
        "outputId": "4002b119-0b99-4d5f-d03f-0574a64f2c1e"
      },
      "execution_count": 32,
      "outputs": [
        {
          "output_type": "execute_result",
          "data": {
            "text/plain": [
              "'\\\\begin{tabular}{llrr}\\n\\\\toprule\\nfamily & model & classification_rate & runtime \\\\\\\\\\n\\\\midrule\\nRF & RF-1000-100-10-10  & 0.270227 & 2.616872 \\\\\\\\\\nRF & RF-1000-100-20-10  & 0.270227 & 2.173240 \\\\\\\\\\nRF & RF-1000-100-20-10  & 0.270227 & 2.152584 \\\\\\\\\\nRF & RF-1000-100-10-10  & 0.270227 & 2.166511 \\\\\\\\\\nRF & RF-1000-100-30-10  & 0.263754 & 2.124736 \\\\\\\\\\nRF & RF-1000-100-30-10  & 0.263754 & 4.993485 \\\\\\\\\\nRF & RF-100-100-40-10  & 0.262136 & 0.213711 \\\\\\\\\\nRF & RF-100-100-40-10  & 0.262136 & 0.344057 \\\\\\\\\\nRF & RF-100-100-20-10  & 0.260518 & 0.220281 \\\\\\\\\\nRF & RF-1000-100-40-10  & 0.260518 & 2.131024 \\\\\\\\\\nRF & RF-100-100-10-10  & 0.260518 & 0.351173 \\\\\\\\\\nRF & RF-1000-100-40-10  & 0.260518 & 2.124356 \\\\\\\\\\nRF & RF-100-100-20-10  & 0.260518 & 0.213521 \\\\\\\\\\nRF & RF-100-100-10-10  & 0.260518 & 0.212474 \\\\\\\\\\nRF & RF-1000-100-10-40  & 0.257282 & 1.828953 \\\\\\\\\\nRF & RF-1000-100-20-40  & 0.257282 & 1.806584 \\\\\\\\\\nRF & RF-1000-100-30-40  & 0.257282 & 2.371814 \\\\\\\\\\nRF & RF-1000-100-40-40  & 0.257282 & 2.424828 \\\\\\\\\\nRF & RF-1000-100-40-40  & 0.257282 & 1.811438 \\\\\\\\\\nRF & RF-10-100-10-40  & 0.257282 & 0.032022 \\\\\\\\\\nRF & RF-10-100-20-40  & 0.257282 & 0.038500 \\\\\\\\\\nRF & RF-10-100-30-10  & 0.257282 & 0.038417 \\\\\\\\\\nRF & RF-10-100-30-40  & 0.257282 & 0.032173 \\\\\\\\\\nRF & RF-10-100-40-10  & 0.257282 & 0.036023 \\\\\\\\\\nRF & RF-10-100-40-40  & 0.257282 & 0.034984 \\\\\\\\\\nRF & RF-100-100-30-10  & 0.257282 & 0.225845 \\\\\\\\\\nRF & RF-1000-100-20-40  & 0.257282 & 5.596638 \\\\\\\\\\nRF & RF-1000-100-10-40  & 0.257282 & 2.447809 \\\\\\\\\\nRF & RF-10-100-30-40  & 0.257282 & 0.022240 \\\\\\\\\\nRF & RF-10-100-10-40  & 0.257282 & 0.021989 \\\\\\\\\\nRF & RF-1000-100-30-40  & 0.257282 & 1.820341 \\\\\\\\\\nRF & RF-10-100-40-10  & 0.257282 & 0.027595 \\\\\\\\\\nRF & RF-10-100-40-40  & 0.257282 & 0.020677 \\\\\\\\\\nRF & RF-10-100-20-40  & 0.257282 & 0.021119 \\\\\\\\\\nRF & RF-100-100-30-10  & 0.257282 & 0.216536 \\\\\\\\\\nRF & RF-10-100-30-10  & 0.257282 & 0.022933 \\\\\\\\\\nRF & RF-1000-100-30-20  & 0.255663 & 5.409476 \\\\\\\\\\nRF & RF-1000-100-10-20  & 0.255663 & 1.994225 \\\\\\\\\\nRF & RF-10-100-20-20  & 0.255663 & 0.034370 \\\\\\\\\\nRF & RF-10-100-30-20  & 0.255663 & 0.038924 \\\\\\\\\\nRF & RF-1000-100-20-20  & 0.255663 & 2.884993 \\\\\\\\\\nRF & RF-10-100-10-20  & 0.255663 & 0.033442 \\\\\\\\\\nRF & RF-10-100-10-20  & 0.255663 & 0.022812 \\\\\\\\\\nRF & RF-10-100-20-20  & 0.255663 & 0.032715 \\\\\\\\\\nRF & RF-1000-100-40-20  & 0.255663 & 1.961621 \\\\\\\\\\nRF & RF-1000-100-10-20  & 0.255663 & 2.931232 \\\\\\\\\\nRF & RF-1000-100-40-20  & 0.255663 & 1.949400 \\\\\\\\\\nRF & RF-1000-100-30-20  & 0.255663 & 1.932049 \\\\\\\\\\nRF & RF-10-100-30-20  & 0.255663 & 0.022055 \\\\\\\\\\nRF & RF-10-100-40-20  & 0.255663 & 0.035212 \\\\\\\\\\nRF & RF-1000-100-20-20  & 0.255663 & 2.264876 \\\\\\\\\\nRF & RF-10-100-40-20  & 0.255663 & 0.022071 \\\\\\\\\\nRF & RF-100-100-40-40  & 0.254045 & 0.181192 \\\\\\\\\\nRF & RF-100-100-10-20  & 0.254045 & 0.239077 \\\\\\\\\\nRF & RF-100-100-10-30  & 0.254045 & 0.192894 \\\\\\\\\\nRF & RF-100-100-40-20  & 0.254045 & 0.202213 \\\\\\\\\\nRF & RF-100-100-10-40  & 0.254045 & 0.180538 \\\\\\\\\\nRF & RF-100-100-40-30  & 0.254045 & 0.184890 \\\\\\\\\\nRF & RF-100-100-20-30  & 0.254045 & 0.198719 \\\\\\\\\\nRF & RF-100-100-20-40  & 0.254045 & 0.180037 \\\\\\\\\\nRF & RF-100-100-30-20  & 0.254045 & 0.196736 \\\\\\\\\\nRF & RF-100-100-30-30  & 0.254045 & 0.183665 \\\\\\\\\\nRF & RF-100-100-30-40  & 0.254045 & 0.195501 \\\\\\\\\\nRF & RF-100-100-20-20  & 0.254045 & 0.190689 \\\\\\\\\\nRF & RF-100-100-30-40  & 0.254045 & 0.256489 \\\\\\\\\\nRF & RF-100-100-20-40  & 0.254045 & 0.203046 \\\\\\\\\\nRF & RF-100-100-30-30  & 0.254045 & 0.191616 \\\\\\\\\\nRF & RF-100-100-10-20  & 0.254045 & 0.194519 \\\\\\\\\\nRF & RF-100-100-40-30  & 0.254045 & 0.284070 \\\\\\\\\\nRF & RF-100-100-10-30  & 0.254045 & 0.197973 \\\\\\\\\\nRF & RF-100-100-10-40  & 0.254045 & 0.203082 \\\\\\\\\\nRF & RF-100-100-20-20  & 0.254045 & 0.201158 \\\\\\\\\\nRF & RF-100-100-20-30  & 0.254045 & 0.189389 \\\\\\\\\\nRF & RF-100-100-40-20  & 0.254045 & 0.291105 \\\\\\\\\\nRF & RF-100-100-30-20  & 0.254045 & 0.192073 \\\\\\\\\\nRF & RF-100-100-40-40  & 0.254045 & 0.285036 \\\\\\\\\\nRF & RF-1000-100-10-30  & 0.247573 & 2.206310 \\\\\\\\\\nRF & RF-1000-100-40-30  & 0.247573 & 2.116436 \\\\\\\\\\nRF & RF-1000-100-20-30  & 0.247573 & 4.014254 \\\\\\\\\\nRF & RF-1000-100-10-30  & 0.247573 & 1.889347 \\\\\\\\\\nRF & RF-1000-100-20-30  & 0.247573 & 1.869526 \\\\\\\\\\nRF & RF-1000-100-40-30  & 0.247573 & 1.844384 \\\\\\\\\\nRF & RF-1000-100-30-30  & 0.247573 & 1.870851 \\\\\\\\\\nRF & RF-1000-100-30-30  & 0.247573 & 2.101665 \\\\\\\\\\nRF & RF-10-100-10-10  & 0.242718 & 0.026994 \\\\\\\\\\nRF & RF-10-100-40-30  & 0.242718 & 0.035858 \\\\\\\\\\nRF & RF-10-100-30-30  & 0.242718 & 0.034421 \\\\\\\\\\nRF & RF-10-100-20-30  & 0.242718 & 0.038263 \\\\\\\\\\nRF & RF-10-100-20-10  & 0.242718 & 0.036330 \\\\\\\\\\nRF & RF-10-100-10-30  & 0.242718 & 0.033026 \\\\\\\\\\nRF & RF-10-100-40-30  & 0.242718 & 0.025643 \\\\\\\\\\nRF & RF-10-100-30-30  & 0.242718 & 0.022306 \\\\\\\\\\nRF & RF-10-100-20-30  & 0.242718 & 0.023461 \\\\\\\\\\nRF & RF-10-100-20-10  & 0.242718 & 0.023352 \\\\\\\\\\nRF & RF-10-100-10-30  & 0.242718 & 0.021369 \\\\\\\\\\nRF & RF-10-100-10-10  & 0.242718 & 0.053733 \\\\\\\\\\n\\\\bottomrule\\n\\\\end{tabular}\\n'"
            ],
            "application/vnd.google.colaboratory.intrinsic+json": {
              "type": "string"
            }
          },
          "metadata": {},
          "execution_count": 32
        }
      ]
    },
    {
      "cell_type": "code",
      "source": [],
      "metadata": {
        "id": "Im9t62zvbeYu"
      },
      "execution_count": null,
      "outputs": []
    },
    {
      "cell_type": "code",
      "execution_count": null,
      "metadata": {
        "id": "VaJo-GQCAjxB"
      },
      "outputs": [],
      "source": [
        "X.shape"
      ]
    },
    {
      "cell_type": "code",
      "execution_count": null,
      "metadata": {
        "id": "MOxD15McE-wi"
      },
      "outputs": [],
      "source": [
        "y"
      ]
    },
    {
      "cell_type": "code",
      "execution_count": null,
      "metadata": {
        "id": "tKg4rtubzA70"
      },
      "outputs": [],
      "source": []
    },
    {
      "cell_type": "markdown",
      "metadata": {
        "id": "xOAIeIVHg5FF"
      },
      "source": [
        "Logistic Regression"
      ]
    },
    {
      "cell_type": "code",
      "execution_count": null,
      "metadata": {
        "id": "-1O8lO73g4vy"
      },
      "outputs": [],
      "source": [
        "from sklearn.linear_model import LogisticRegression\n",
        "from sklearn.model_selection import GridSearchCV\n",
        "LR = LogisticRegression()\n",
        "LRparam_grid = {\n",
        "    'C': [0.001, 0.01, 0.1, 1, 10, 100],\n",
        "    'penalty': ['l1', 'l2'],\n",
        "    # 'max_iter': list(range(100,800,100)),\n",
        "    'solver': ['newton-cg', 'lbfgs', 'liblinear', 'sag', 'saga']\n",
        "}\n",
        "LR_search = GridSearchCV(LR, param_grid=LRparam_grid, refit = True, verbose = 3, cv=5)\n",
        "# fitting the model for grid search\n",
        "LR_search.fit(X_train , y_train)\n",
        "LR_search.best_params_\n",
        "# summarize\n",
        "print('Mean Accuracy: %.3f' % LR_search.best_score_)\n",
        "print('Config: %s' % LR_search.best_params_)"
      ]
    },
    {
      "cell_type": "markdown",
      "metadata": {
        "id": "TyLJCb5AVJr-"
      },
      "source": [
        "# Making a Prediction"
      ]
    },
    {
      "cell_type": "markdown",
      "metadata": {
        "id": "nne6ehjUVJYT"
      },
      "source": []
    },
    {
      "cell_type": "markdown",
      "source": [],
      "metadata": {
        "id": "v4U95jq9qI56"
      }
    },
    {
      "cell_type": "code",
      "source": [
        "from sklearn.neighbors import KNeighborsClassifier\n",
        "knn = KNeighborsClassifier(n_neighbors=17)\n",
        "knn.fit(X_train, y_train)\n",
        "y_pred = knn.predict(X_test1)\n",
        "y_pred"
      ],
      "metadata": {
        "id": "pZJm-IJsrodG",
        "colab": {
          "base_uri": "https://localhost:8080/"
        },
        "outputId": "d4054b68-aae1-48e6-e92d-1458b3215464"
      },
      "execution_count": 33,
      "outputs": [
        {
          "output_type": "execute_result",
          "data": {
            "text/plain": [
              "array(['12th Pass', 'Post Graduate', '12th Pass', ..., 'Graduate',\n",
              "       '12th Pass', 'Post Graduate'], dtype=object)"
            ]
          },
          "metadata": {},
          "execution_count": 33
        }
      ]
    },
    {
      "cell_type": "code",
      "execution_count": 34,
      "metadata": {
        "colab": {
          "base_uri": "https://localhost:8080/"
        },
        "id": "aA7288EHz5-F",
        "outputId": "2bd706a1-5896-46c2-f5c5-558595996417"
      },
      "outputs": [
        {
          "output_type": "execute_result",
          "data": {
            "text/plain": [
              "Education            \n",
              "Graduate                 514\n",
              "Post Graduate            360\n",
              "12th Pass                257\n",
              "Graduate Professional    166\n",
              "10th Pass                 70\n",
              "Doctorate                  5\n",
              "8th Pass                   2\n",
              "Name: count, dtype: int64"
            ]
          },
          "metadata": {},
          "execution_count": 34
        }
      ],
      "source": [
        "y_pred = y_pred.T\n",
        "df2 = pd.DataFrame(y_pred, columns=[\"Education\"])\n",
        "df2.value_counts()\n",
        "#y_pred.to_csv('sample_submission.csv', encoding='utf-8', index=True)"
      ]
    },
    {
      "cell_type": "code",
      "execution_count": 35,
      "metadata": {
        "id": "6j2yOWrY2ANO"
      },
      "outputs": [],
      "source": [
        "df2[\"ID\"] = df2.index"
      ]
    },
    {
      "cell_type": "code",
      "execution_count": 36,
      "metadata": {
        "id": "c0Y0UwJb3V8o"
      },
      "outputs": [],
      "source": [
        "df2.drop(columns = ['Education'] , inplace = True)\n",
        "df2[\"Education\"] = y_pred"
      ]
    },
    {
      "cell_type": "code",
      "execution_count": 37,
      "metadata": {
        "id": "8Y-KwVTs33aa"
      },
      "outputs": [],
      "source": [
        "df2.set_index('ID', inplace = True)"
      ]
    },
    {
      "cell_type": "code",
      "execution_count": 38,
      "metadata": {
        "colab": {
          "base_uri": "https://localhost:8080/",
          "height": 455
        },
        "id": "sTv5nusN46lN",
        "outputId": "b414d633-7274-4d28-fb35-c5729653adff"
      },
      "outputs": [
        {
          "output_type": "execute_result",
          "data": {
            "text/plain": [
              "                  Education\n",
              "ID                         \n",
              "0                 12th Pass\n",
              "1             Post Graduate\n",
              "2                 12th Pass\n",
              "3             Post Graduate\n",
              "4             Post Graduate\n",
              "...                     ...\n",
              "1369          Post Graduate\n",
              "1370  Graduate Professional\n",
              "1371               Graduate\n",
              "1372              12th Pass\n",
              "1373          Post Graduate\n",
              "\n",
              "[1374 rows x 1 columns]"
            ],
            "text/html": [
              "\n",
              "  <div id=\"df-6288c99d-bb2b-428c-a735-1667b18a8721\" class=\"colab-df-container\">\n",
              "    <div>\n",
              "<style scoped>\n",
              "    .dataframe tbody tr th:only-of-type {\n",
              "        vertical-align: middle;\n",
              "    }\n",
              "\n",
              "    .dataframe tbody tr th {\n",
              "        vertical-align: top;\n",
              "    }\n",
              "\n",
              "    .dataframe thead th {\n",
              "        text-align: right;\n",
              "    }\n",
              "</style>\n",
              "<table border=\"1\" class=\"dataframe\">\n",
              "  <thead>\n",
              "    <tr style=\"text-align: right;\">\n",
              "      <th></th>\n",
              "      <th>Education</th>\n",
              "    </tr>\n",
              "    <tr>\n",
              "      <th>ID</th>\n",
              "      <th></th>\n",
              "    </tr>\n",
              "  </thead>\n",
              "  <tbody>\n",
              "    <tr>\n",
              "      <th>0</th>\n",
              "      <td>12th Pass</td>\n",
              "    </tr>\n",
              "    <tr>\n",
              "      <th>1</th>\n",
              "      <td>Post Graduate</td>\n",
              "    </tr>\n",
              "    <tr>\n",
              "      <th>2</th>\n",
              "      <td>12th Pass</td>\n",
              "    </tr>\n",
              "    <tr>\n",
              "      <th>3</th>\n",
              "      <td>Post Graduate</td>\n",
              "    </tr>\n",
              "    <tr>\n",
              "      <th>4</th>\n",
              "      <td>Post Graduate</td>\n",
              "    </tr>\n",
              "    <tr>\n",
              "      <th>...</th>\n",
              "      <td>...</td>\n",
              "    </tr>\n",
              "    <tr>\n",
              "      <th>1369</th>\n",
              "      <td>Post Graduate</td>\n",
              "    </tr>\n",
              "    <tr>\n",
              "      <th>1370</th>\n",
              "      <td>Graduate Professional</td>\n",
              "    </tr>\n",
              "    <tr>\n",
              "      <th>1371</th>\n",
              "      <td>Graduate</td>\n",
              "    </tr>\n",
              "    <tr>\n",
              "      <th>1372</th>\n",
              "      <td>12th Pass</td>\n",
              "    </tr>\n",
              "    <tr>\n",
              "      <th>1373</th>\n",
              "      <td>Post Graduate</td>\n",
              "    </tr>\n",
              "  </tbody>\n",
              "</table>\n",
              "<p>1374 rows × 1 columns</p>\n",
              "</div>\n",
              "    <div class=\"colab-df-buttons\">\n",
              "\n",
              "  <div class=\"colab-df-container\">\n",
              "    <button class=\"colab-df-convert\" onclick=\"convertToInteractive('df-6288c99d-bb2b-428c-a735-1667b18a8721')\"\n",
              "            title=\"Convert this dataframe to an interactive table.\"\n",
              "            style=\"display:none;\">\n",
              "\n",
              "  <svg xmlns=\"http://www.w3.org/2000/svg\" height=\"24px\" viewBox=\"0 -960 960 960\">\n",
              "    <path d=\"M120-120v-720h720v720H120Zm60-500h600v-160H180v160Zm220 220h160v-160H400v160Zm0 220h160v-160H400v160ZM180-400h160v-160H180v160Zm440 0h160v-160H620v160ZM180-180h160v-160H180v160Zm440 0h160v-160H620v160Z\"/>\n",
              "  </svg>\n",
              "    </button>\n",
              "\n",
              "  <style>\n",
              "    .colab-df-container {\n",
              "      display:flex;\n",
              "      gap: 12px;\n",
              "    }\n",
              "\n",
              "    .colab-df-convert {\n",
              "      background-color: #E8F0FE;\n",
              "      border: none;\n",
              "      border-radius: 50%;\n",
              "      cursor: pointer;\n",
              "      display: none;\n",
              "      fill: #1967D2;\n",
              "      height: 32px;\n",
              "      padding: 0 0 0 0;\n",
              "      width: 32px;\n",
              "    }\n",
              "\n",
              "    .colab-df-convert:hover {\n",
              "      background-color: #E2EBFA;\n",
              "      box-shadow: 0px 1px 2px rgba(60, 64, 67, 0.3), 0px 1px 3px 1px rgba(60, 64, 67, 0.15);\n",
              "      fill: #174EA6;\n",
              "    }\n",
              "\n",
              "    .colab-df-buttons div {\n",
              "      margin-bottom: 4px;\n",
              "    }\n",
              "\n",
              "    [theme=dark] .colab-df-convert {\n",
              "      background-color: #3B4455;\n",
              "      fill: #D2E3FC;\n",
              "    }\n",
              "\n",
              "    [theme=dark] .colab-df-convert:hover {\n",
              "      background-color: #434B5C;\n",
              "      box-shadow: 0px 1px 3px 1px rgba(0, 0, 0, 0.15);\n",
              "      filter: drop-shadow(0px 1px 2px rgba(0, 0, 0, 0.3));\n",
              "      fill: #FFFFFF;\n",
              "    }\n",
              "  </style>\n",
              "\n",
              "    <script>\n",
              "      const buttonEl =\n",
              "        document.querySelector('#df-6288c99d-bb2b-428c-a735-1667b18a8721 button.colab-df-convert');\n",
              "      buttonEl.style.display =\n",
              "        google.colab.kernel.accessAllowed ? 'block' : 'none';\n",
              "\n",
              "      async function convertToInteractive(key) {\n",
              "        const element = document.querySelector('#df-6288c99d-bb2b-428c-a735-1667b18a8721');\n",
              "        const dataTable =\n",
              "          await google.colab.kernel.invokeFunction('convertToInteractive',\n",
              "                                                    [key], {});\n",
              "        if (!dataTable) return;\n",
              "\n",
              "        const docLinkHtml = 'Like what you see? Visit the ' +\n",
              "          '<a target=\"_blank\" href=https://colab.research.google.com/notebooks/data_table.ipynb>data table notebook</a>'\n",
              "          + ' to learn more about interactive tables.';\n",
              "        element.innerHTML = '';\n",
              "        dataTable['output_type'] = 'display_data';\n",
              "        await google.colab.output.renderOutput(dataTable, element);\n",
              "        const docLink = document.createElement('div');\n",
              "        docLink.innerHTML = docLinkHtml;\n",
              "        element.appendChild(docLink);\n",
              "      }\n",
              "    </script>\n",
              "  </div>\n",
              "\n",
              "\n",
              "<div id=\"df-1418f97f-9c2b-4057-8992-a55053cd0ad0\">\n",
              "  <button class=\"colab-df-quickchart\" onclick=\"quickchart('df-1418f97f-9c2b-4057-8992-a55053cd0ad0')\"\n",
              "            title=\"Suggest charts\"\n",
              "            style=\"display:none;\">\n",
              "\n",
              "<svg xmlns=\"http://www.w3.org/2000/svg\" height=\"24px\"viewBox=\"0 0 24 24\"\n",
              "     width=\"24px\">\n",
              "    <g>\n",
              "        <path d=\"M19 3H5c-1.1 0-2 .9-2 2v14c0 1.1.9 2 2 2h14c1.1 0 2-.9 2-2V5c0-1.1-.9-2-2-2zM9 17H7v-7h2v7zm4 0h-2V7h2v10zm4 0h-2v-4h2v4z\"/>\n",
              "    </g>\n",
              "</svg>\n",
              "  </button>\n",
              "\n",
              "<style>\n",
              "  .colab-df-quickchart {\n",
              "      --bg-color: #E8F0FE;\n",
              "      --fill-color: #1967D2;\n",
              "      --hover-bg-color: #E2EBFA;\n",
              "      --hover-fill-color: #174EA6;\n",
              "      --disabled-fill-color: #AAA;\n",
              "      --disabled-bg-color: #DDD;\n",
              "  }\n",
              "\n",
              "  [theme=dark] .colab-df-quickchart {\n",
              "      --bg-color: #3B4455;\n",
              "      --fill-color: #D2E3FC;\n",
              "      --hover-bg-color: #434B5C;\n",
              "      --hover-fill-color: #FFFFFF;\n",
              "      --disabled-bg-color: #3B4455;\n",
              "      --disabled-fill-color: #666;\n",
              "  }\n",
              "\n",
              "  .colab-df-quickchart {\n",
              "    background-color: var(--bg-color);\n",
              "    border: none;\n",
              "    border-radius: 50%;\n",
              "    cursor: pointer;\n",
              "    display: none;\n",
              "    fill: var(--fill-color);\n",
              "    height: 32px;\n",
              "    padding: 0;\n",
              "    width: 32px;\n",
              "  }\n",
              "\n",
              "  .colab-df-quickchart:hover {\n",
              "    background-color: var(--hover-bg-color);\n",
              "    box-shadow: 0 1px 2px rgba(60, 64, 67, 0.3), 0 1px 3px 1px rgba(60, 64, 67, 0.15);\n",
              "    fill: var(--button-hover-fill-color);\n",
              "  }\n",
              "\n",
              "  .colab-df-quickchart-complete:disabled,\n",
              "  .colab-df-quickchart-complete:disabled:hover {\n",
              "    background-color: var(--disabled-bg-color);\n",
              "    fill: var(--disabled-fill-color);\n",
              "    box-shadow: none;\n",
              "  }\n",
              "\n",
              "  .colab-df-spinner {\n",
              "    border: 2px solid var(--fill-color);\n",
              "    border-color: transparent;\n",
              "    border-bottom-color: var(--fill-color);\n",
              "    animation:\n",
              "      spin 1s steps(1) infinite;\n",
              "  }\n",
              "\n",
              "  @keyframes spin {\n",
              "    0% {\n",
              "      border-color: transparent;\n",
              "      border-bottom-color: var(--fill-color);\n",
              "      border-left-color: var(--fill-color);\n",
              "    }\n",
              "    20% {\n",
              "      border-color: transparent;\n",
              "      border-left-color: var(--fill-color);\n",
              "      border-top-color: var(--fill-color);\n",
              "    }\n",
              "    30% {\n",
              "      border-color: transparent;\n",
              "      border-left-color: var(--fill-color);\n",
              "      border-top-color: var(--fill-color);\n",
              "      border-right-color: var(--fill-color);\n",
              "    }\n",
              "    40% {\n",
              "      border-color: transparent;\n",
              "      border-right-color: var(--fill-color);\n",
              "      border-top-color: var(--fill-color);\n",
              "    }\n",
              "    60% {\n",
              "      border-color: transparent;\n",
              "      border-right-color: var(--fill-color);\n",
              "    }\n",
              "    80% {\n",
              "      border-color: transparent;\n",
              "      border-right-color: var(--fill-color);\n",
              "      border-bottom-color: var(--fill-color);\n",
              "    }\n",
              "    90% {\n",
              "      border-color: transparent;\n",
              "      border-bottom-color: var(--fill-color);\n",
              "    }\n",
              "  }\n",
              "</style>\n",
              "\n",
              "  <script>\n",
              "    async function quickchart(key) {\n",
              "      const quickchartButtonEl =\n",
              "        document.querySelector('#' + key + ' button');\n",
              "      quickchartButtonEl.disabled = true;  // To prevent multiple clicks.\n",
              "      quickchartButtonEl.classList.add('colab-df-spinner');\n",
              "      try {\n",
              "        const charts = await google.colab.kernel.invokeFunction(\n",
              "            'suggestCharts', [key], {});\n",
              "      } catch (error) {\n",
              "        console.error('Error during call to suggestCharts:', error);\n",
              "      }\n",
              "      quickchartButtonEl.classList.remove('colab-df-spinner');\n",
              "      quickchartButtonEl.classList.add('colab-df-quickchart-complete');\n",
              "    }\n",
              "    (() => {\n",
              "      let quickchartButtonEl =\n",
              "        document.querySelector('#df-1418f97f-9c2b-4057-8992-a55053cd0ad0 button');\n",
              "      quickchartButtonEl.style.display =\n",
              "        google.colab.kernel.accessAllowed ? 'block' : 'none';\n",
              "    })();\n",
              "  </script>\n",
              "</div>\n",
              "\n",
              "  <div id=\"id_ed0096fd-b920-4765-bb88-b398b569c0d4\">\n",
              "    <style>\n",
              "      .colab-df-generate {\n",
              "        background-color: #E8F0FE;\n",
              "        border: none;\n",
              "        border-radius: 50%;\n",
              "        cursor: pointer;\n",
              "        display: none;\n",
              "        fill: #1967D2;\n",
              "        height: 32px;\n",
              "        padding: 0 0 0 0;\n",
              "        width: 32px;\n",
              "      }\n",
              "\n",
              "      .colab-df-generate:hover {\n",
              "        background-color: #E2EBFA;\n",
              "        box-shadow: 0px 1px 2px rgba(60, 64, 67, 0.3), 0px 1px 3px 1px rgba(60, 64, 67, 0.15);\n",
              "        fill: #174EA6;\n",
              "      }\n",
              "\n",
              "      [theme=dark] .colab-df-generate {\n",
              "        background-color: #3B4455;\n",
              "        fill: #D2E3FC;\n",
              "      }\n",
              "\n",
              "      [theme=dark] .colab-df-generate:hover {\n",
              "        background-color: #434B5C;\n",
              "        box-shadow: 0px 1px 3px 1px rgba(0, 0, 0, 0.15);\n",
              "        filter: drop-shadow(0px 1px 2px rgba(0, 0, 0, 0.3));\n",
              "        fill: #FFFFFF;\n",
              "      }\n",
              "    </style>\n",
              "    <button class=\"colab-df-generate\" onclick=\"generateWithVariable('df2')\"\n",
              "            title=\"Generate code using this dataframe.\"\n",
              "            style=\"display:none;\">\n",
              "\n",
              "  <svg xmlns=\"http://www.w3.org/2000/svg\" height=\"24px\"viewBox=\"0 0 24 24\"\n",
              "       width=\"24px\">\n",
              "    <path d=\"M7,19H8.4L18.45,9,17,7.55,7,17.6ZM5,21V16.75L18.45,3.32a2,2,0,0,1,2.83,0l1.4,1.43a1.91,1.91,0,0,1,.58,1.4,1.91,1.91,0,0,1-.58,1.4L9.25,21ZM18.45,9,17,7.55Zm-12,3A5.31,5.31,0,0,0,4.9,8.1,5.31,5.31,0,0,0,1,6.5,5.31,5.31,0,0,0,4.9,4.9,5.31,5.31,0,0,0,6.5,1,5.31,5.31,0,0,0,8.1,4.9,5.31,5.31,0,0,0,12,6.5,5.46,5.46,0,0,0,6.5,12Z\"/>\n",
              "  </svg>\n",
              "    </button>\n",
              "    <script>\n",
              "      (() => {\n",
              "      const buttonEl =\n",
              "        document.querySelector('#id_ed0096fd-b920-4765-bb88-b398b569c0d4 button.colab-df-generate');\n",
              "      buttonEl.style.display =\n",
              "        google.colab.kernel.accessAllowed ? 'block' : 'none';\n",
              "\n",
              "      buttonEl.onclick = () => {\n",
              "        google.colab.notebook.generateWithVariable('df2');\n",
              "      }\n",
              "      })();\n",
              "    </script>\n",
              "  </div>\n",
              "\n",
              "    </div>\n",
              "  </div>\n"
            ],
            "application/vnd.google.colaboratory.intrinsic+json": {
              "type": "dataframe",
              "variable_name": "df2",
              "summary": "{\n  \"name\": \"df2\",\n  \"rows\": 1374,\n  \"fields\": [\n    {\n      \"column\": \"ID\",\n      \"properties\": {\n        \"dtype\": \"number\",\n        \"std\": 396,\n        \"min\": 0,\n        \"max\": 1373,\n        \"num_unique_values\": 1374,\n        \"samples\": [\n          430,\n          588,\n          296\n        ],\n        \"semantic_type\": \"\",\n        \"description\": \"\"\n      }\n    },\n    {\n      \"column\": \"Education\",\n      \"properties\": {\n        \"dtype\": \"category\",\n        \"num_unique_values\": 7,\n        \"samples\": [\n          \"12th Pass\",\n          \"Post Graduate\",\n          \"8th Pass\"\n        ],\n        \"semantic_type\": \"\",\n        \"description\": \"\"\n      }\n    }\n  ]\n}"
            }
          },
          "metadata": {},
          "execution_count": 38
        }
      ],
      "source": [
        "df2"
      ]
    },
    {
      "cell_type": "code",
      "execution_count": 39,
      "metadata": {
        "id": "Qd2xJWj_4_sX"
      },
      "outputs": [],
      "source": [
        "df2.to_csv('sample_submission1.csv', encoding='utf-8', index=True)"
      ]
    },
    {
      "cell_type": "markdown",
      "metadata": {
        "id": "6_hnU3iz0Ngw"
      },
      "source": [
        "**Side Missions**\n",
        "# Data Analysis"
      ]
    },
    {
      "cell_type": "markdown",
      "metadata": {
        "id": "cUJxN7p46OnK"
      },
      "source": [
        "Parties vs Criminal Records"
      ]
    },
    {
      "cell_type": "code",
      "execution_count": 40,
      "metadata": {
        "colab": {
          "base_uri": "https://localhost:8080/",
          "height": 365
        },
        "id": "tVXqzKTj0F1w",
        "outputId": "5a7238da-f787-40f9-8110-1cdfa1adeb94"
      },
      "outputs": [
        {
          "output_type": "execute_result",
          "data": {
            "text/plain": [
              "   ID             Candidate        Constituency ∇ Party  Criminal Case  \\\n",
              "0   0            M.K. Mohan            ANNA NAGAR   DMK              4   \n",
              "1   1  Khatik Ramesh Prasad           KARERA (SC)   BJP              0   \n",
              "2   2      Dr. Mantar Gowda              MADIKERI   INC              0   \n",
              "3   3          Kundan Kumar             BEGUSARAI   BJP              0   \n",
              "4   4       Swapan Majumder  BANGAON DAKSHIN (SC)   BJP              2   \n",
              "\n",
              "  Total Assets Liabilities           state      Education  \n",
              "0   211 Crore+    2 Crore+      TAMIL NADU       8th Pass  \n",
              "1     1 Crore+           0  MADHYA PRADESH      12th Pass  \n",
              "2     7 Crore+     22 Lac+       KARNATAKA  Post Graduate  \n",
              "3     9 Crore+     24 Lac+           BIHAR  Post Graduate  \n",
              "4     2 Crore+     61 Lac+     WEST BENGAL       8th Pass  "
            ],
            "text/html": [
              "\n",
              "  <div id=\"df-737caeef-8492-4e29-a8b4-5cab61be0411\" class=\"colab-df-container\">\n",
              "    <div>\n",
              "<style scoped>\n",
              "    .dataframe tbody tr th:only-of-type {\n",
              "        vertical-align: middle;\n",
              "    }\n",
              "\n",
              "    .dataframe tbody tr th {\n",
              "        vertical-align: top;\n",
              "    }\n",
              "\n",
              "    .dataframe thead th {\n",
              "        text-align: right;\n",
              "    }\n",
              "</style>\n",
              "<table border=\"1\" class=\"dataframe\">\n",
              "  <thead>\n",
              "    <tr style=\"text-align: right;\">\n",
              "      <th></th>\n",
              "      <th>ID</th>\n",
              "      <th>Candidate</th>\n",
              "      <th>Constituency ∇</th>\n",
              "      <th>Party</th>\n",
              "      <th>Criminal Case</th>\n",
              "      <th>Total Assets</th>\n",
              "      <th>Liabilities</th>\n",
              "      <th>state</th>\n",
              "      <th>Education</th>\n",
              "    </tr>\n",
              "  </thead>\n",
              "  <tbody>\n",
              "    <tr>\n",
              "      <th>0</th>\n",
              "      <td>0</td>\n",
              "      <td>M.K. Mohan</td>\n",
              "      <td>ANNA NAGAR</td>\n",
              "      <td>DMK</td>\n",
              "      <td>4</td>\n",
              "      <td>211 Crore+</td>\n",
              "      <td>2 Crore+</td>\n",
              "      <td>TAMIL NADU</td>\n",
              "      <td>8th Pass</td>\n",
              "    </tr>\n",
              "    <tr>\n",
              "      <th>1</th>\n",
              "      <td>1</td>\n",
              "      <td>Khatik Ramesh Prasad</td>\n",
              "      <td>KARERA (SC)</td>\n",
              "      <td>BJP</td>\n",
              "      <td>0</td>\n",
              "      <td>1 Crore+</td>\n",
              "      <td>0</td>\n",
              "      <td>MADHYA PRADESH</td>\n",
              "      <td>12th Pass</td>\n",
              "    </tr>\n",
              "    <tr>\n",
              "      <th>2</th>\n",
              "      <td>2</td>\n",
              "      <td>Dr. Mantar Gowda</td>\n",
              "      <td>MADIKERI</td>\n",
              "      <td>INC</td>\n",
              "      <td>0</td>\n",
              "      <td>7 Crore+</td>\n",
              "      <td>22 Lac+</td>\n",
              "      <td>KARNATAKA</td>\n",
              "      <td>Post Graduate</td>\n",
              "    </tr>\n",
              "    <tr>\n",
              "      <th>3</th>\n",
              "      <td>3</td>\n",
              "      <td>Kundan Kumar</td>\n",
              "      <td>BEGUSARAI</td>\n",
              "      <td>BJP</td>\n",
              "      <td>0</td>\n",
              "      <td>9 Crore+</td>\n",
              "      <td>24 Lac+</td>\n",
              "      <td>BIHAR</td>\n",
              "      <td>Post Graduate</td>\n",
              "    </tr>\n",
              "    <tr>\n",
              "      <th>4</th>\n",
              "      <td>4</td>\n",
              "      <td>Swapan Majumder</td>\n",
              "      <td>BANGAON DAKSHIN (SC)</td>\n",
              "      <td>BJP</td>\n",
              "      <td>2</td>\n",
              "      <td>2 Crore+</td>\n",
              "      <td>61 Lac+</td>\n",
              "      <td>WEST BENGAL</td>\n",
              "      <td>8th Pass</td>\n",
              "    </tr>\n",
              "  </tbody>\n",
              "</table>\n",
              "</div>\n",
              "    <div class=\"colab-df-buttons\">\n",
              "\n",
              "  <div class=\"colab-df-container\">\n",
              "    <button class=\"colab-df-convert\" onclick=\"convertToInteractive('df-737caeef-8492-4e29-a8b4-5cab61be0411')\"\n",
              "            title=\"Convert this dataframe to an interactive table.\"\n",
              "            style=\"display:none;\">\n",
              "\n",
              "  <svg xmlns=\"http://www.w3.org/2000/svg\" height=\"24px\" viewBox=\"0 -960 960 960\">\n",
              "    <path d=\"M120-120v-720h720v720H120Zm60-500h600v-160H180v160Zm220 220h160v-160H400v160Zm0 220h160v-160H400v160ZM180-400h160v-160H180v160Zm440 0h160v-160H620v160ZM180-180h160v-160H180v160Zm440 0h160v-160H620v160Z\"/>\n",
              "  </svg>\n",
              "    </button>\n",
              "\n",
              "  <style>\n",
              "    .colab-df-container {\n",
              "      display:flex;\n",
              "      gap: 12px;\n",
              "    }\n",
              "\n",
              "    .colab-df-convert {\n",
              "      background-color: #E8F0FE;\n",
              "      border: none;\n",
              "      border-radius: 50%;\n",
              "      cursor: pointer;\n",
              "      display: none;\n",
              "      fill: #1967D2;\n",
              "      height: 32px;\n",
              "      padding: 0 0 0 0;\n",
              "      width: 32px;\n",
              "    }\n",
              "\n",
              "    .colab-df-convert:hover {\n",
              "      background-color: #E2EBFA;\n",
              "      box-shadow: 0px 1px 2px rgba(60, 64, 67, 0.3), 0px 1px 3px 1px rgba(60, 64, 67, 0.15);\n",
              "      fill: #174EA6;\n",
              "    }\n",
              "\n",
              "    .colab-df-buttons div {\n",
              "      margin-bottom: 4px;\n",
              "    }\n",
              "\n",
              "    [theme=dark] .colab-df-convert {\n",
              "      background-color: #3B4455;\n",
              "      fill: #D2E3FC;\n",
              "    }\n",
              "\n",
              "    [theme=dark] .colab-df-convert:hover {\n",
              "      background-color: #434B5C;\n",
              "      box-shadow: 0px 1px 3px 1px rgba(0, 0, 0, 0.15);\n",
              "      filter: drop-shadow(0px 1px 2px rgba(0, 0, 0, 0.3));\n",
              "      fill: #FFFFFF;\n",
              "    }\n",
              "  </style>\n",
              "\n",
              "    <script>\n",
              "      const buttonEl =\n",
              "        document.querySelector('#df-737caeef-8492-4e29-a8b4-5cab61be0411 button.colab-df-convert');\n",
              "      buttonEl.style.display =\n",
              "        google.colab.kernel.accessAllowed ? 'block' : 'none';\n",
              "\n",
              "      async function convertToInteractive(key) {\n",
              "        const element = document.querySelector('#df-737caeef-8492-4e29-a8b4-5cab61be0411');\n",
              "        const dataTable =\n",
              "          await google.colab.kernel.invokeFunction('convertToInteractive',\n",
              "                                                    [key], {});\n",
              "        if (!dataTable) return;\n",
              "\n",
              "        const docLinkHtml = 'Like what you see? Visit the ' +\n",
              "          '<a target=\"_blank\" href=https://colab.research.google.com/notebooks/data_table.ipynb>data table notebook</a>'\n",
              "          + ' to learn more about interactive tables.';\n",
              "        element.innerHTML = '';\n",
              "        dataTable['output_type'] = 'display_data';\n",
              "        await google.colab.output.renderOutput(dataTable, element);\n",
              "        const docLink = document.createElement('div');\n",
              "        docLink.innerHTML = docLinkHtml;\n",
              "        element.appendChild(docLink);\n",
              "      }\n",
              "    </script>\n",
              "  </div>\n",
              "\n",
              "\n",
              "<div id=\"df-d970d095-b04f-4d2d-b88f-40dde6d70124\">\n",
              "  <button class=\"colab-df-quickchart\" onclick=\"quickchart('df-d970d095-b04f-4d2d-b88f-40dde6d70124')\"\n",
              "            title=\"Suggest charts\"\n",
              "            style=\"display:none;\">\n",
              "\n",
              "<svg xmlns=\"http://www.w3.org/2000/svg\" height=\"24px\"viewBox=\"0 0 24 24\"\n",
              "     width=\"24px\">\n",
              "    <g>\n",
              "        <path d=\"M19 3H5c-1.1 0-2 .9-2 2v14c0 1.1.9 2 2 2h14c1.1 0 2-.9 2-2V5c0-1.1-.9-2-2-2zM9 17H7v-7h2v7zm4 0h-2V7h2v10zm4 0h-2v-4h2v4z\"/>\n",
              "    </g>\n",
              "</svg>\n",
              "  </button>\n",
              "\n",
              "<style>\n",
              "  .colab-df-quickchart {\n",
              "      --bg-color: #E8F0FE;\n",
              "      --fill-color: #1967D2;\n",
              "      --hover-bg-color: #E2EBFA;\n",
              "      --hover-fill-color: #174EA6;\n",
              "      --disabled-fill-color: #AAA;\n",
              "      --disabled-bg-color: #DDD;\n",
              "  }\n",
              "\n",
              "  [theme=dark] .colab-df-quickchart {\n",
              "      --bg-color: #3B4455;\n",
              "      --fill-color: #D2E3FC;\n",
              "      --hover-bg-color: #434B5C;\n",
              "      --hover-fill-color: #FFFFFF;\n",
              "      --disabled-bg-color: #3B4455;\n",
              "      --disabled-fill-color: #666;\n",
              "  }\n",
              "\n",
              "  .colab-df-quickchart {\n",
              "    background-color: var(--bg-color);\n",
              "    border: none;\n",
              "    border-radius: 50%;\n",
              "    cursor: pointer;\n",
              "    display: none;\n",
              "    fill: var(--fill-color);\n",
              "    height: 32px;\n",
              "    padding: 0;\n",
              "    width: 32px;\n",
              "  }\n",
              "\n",
              "  .colab-df-quickchart:hover {\n",
              "    background-color: var(--hover-bg-color);\n",
              "    box-shadow: 0 1px 2px rgba(60, 64, 67, 0.3), 0 1px 3px 1px rgba(60, 64, 67, 0.15);\n",
              "    fill: var(--button-hover-fill-color);\n",
              "  }\n",
              "\n",
              "  .colab-df-quickchart-complete:disabled,\n",
              "  .colab-df-quickchart-complete:disabled:hover {\n",
              "    background-color: var(--disabled-bg-color);\n",
              "    fill: var(--disabled-fill-color);\n",
              "    box-shadow: none;\n",
              "  }\n",
              "\n",
              "  .colab-df-spinner {\n",
              "    border: 2px solid var(--fill-color);\n",
              "    border-color: transparent;\n",
              "    border-bottom-color: var(--fill-color);\n",
              "    animation:\n",
              "      spin 1s steps(1) infinite;\n",
              "  }\n",
              "\n",
              "  @keyframes spin {\n",
              "    0% {\n",
              "      border-color: transparent;\n",
              "      border-bottom-color: var(--fill-color);\n",
              "      border-left-color: var(--fill-color);\n",
              "    }\n",
              "    20% {\n",
              "      border-color: transparent;\n",
              "      border-left-color: var(--fill-color);\n",
              "      border-top-color: var(--fill-color);\n",
              "    }\n",
              "    30% {\n",
              "      border-color: transparent;\n",
              "      border-left-color: var(--fill-color);\n",
              "      border-top-color: var(--fill-color);\n",
              "      border-right-color: var(--fill-color);\n",
              "    }\n",
              "    40% {\n",
              "      border-color: transparent;\n",
              "      border-right-color: var(--fill-color);\n",
              "      border-top-color: var(--fill-color);\n",
              "    }\n",
              "    60% {\n",
              "      border-color: transparent;\n",
              "      border-right-color: var(--fill-color);\n",
              "    }\n",
              "    80% {\n",
              "      border-color: transparent;\n",
              "      border-right-color: var(--fill-color);\n",
              "      border-bottom-color: var(--fill-color);\n",
              "    }\n",
              "    90% {\n",
              "      border-color: transparent;\n",
              "      border-bottom-color: var(--fill-color);\n",
              "    }\n",
              "  }\n",
              "</style>\n",
              "\n",
              "  <script>\n",
              "    async function quickchart(key) {\n",
              "      const quickchartButtonEl =\n",
              "        document.querySelector('#' + key + ' button');\n",
              "      quickchartButtonEl.disabled = true;  // To prevent multiple clicks.\n",
              "      quickchartButtonEl.classList.add('colab-df-spinner');\n",
              "      try {\n",
              "        const charts = await google.colab.kernel.invokeFunction(\n",
              "            'suggestCharts', [key], {});\n",
              "      } catch (error) {\n",
              "        console.error('Error during call to suggestCharts:', error);\n",
              "      }\n",
              "      quickchartButtonEl.classList.remove('colab-df-spinner');\n",
              "      quickchartButtonEl.classList.add('colab-df-quickchart-complete');\n",
              "    }\n",
              "    (() => {\n",
              "      let quickchartButtonEl =\n",
              "        document.querySelector('#df-d970d095-b04f-4d2d-b88f-40dde6d70124 button');\n",
              "      quickchartButtonEl.style.display =\n",
              "        google.colab.kernel.accessAllowed ? 'block' : 'none';\n",
              "    })();\n",
              "  </script>\n",
              "</div>\n",
              "\n",
              "    </div>\n",
              "  </div>\n"
            ],
            "application/vnd.google.colaboratory.intrinsic+json": {
              "type": "dataframe",
              "variable_name": "df3",
              "summary": "{\n  \"name\": \"df3\",\n  \"rows\": 2059,\n  \"fields\": [\n    {\n      \"column\": \"ID\",\n      \"properties\": {\n        \"dtype\": \"number\",\n        \"std\": 594,\n        \"min\": 0,\n        \"max\": 2058,\n        \"num_unique_values\": 2059,\n        \"samples\": [\n          1298,\n          591,\n          1318\n        ],\n        \"semantic_type\": \"\",\n        \"description\": \"\"\n      }\n    },\n    {\n      \"column\": \"Candidate\",\n      \"properties\": {\n        \"dtype\": \"string\",\n        \"num_unique_values\": 2039,\n        \"samples\": [\n          \"Keshav Singh Desai\",\n          \"Nandkishor\",\n          \"H.M.Ganesh Prasad\"\n        ],\n        \"semantic_type\": \"\",\n        \"description\": \"\"\n      }\n    },\n    {\n      \"column\": \"Constituency \\u2207\",\n      \"properties\": {\n        \"dtype\": \"string\",\n        \"num_unique_values\": 2037,\n        \"samples\": [\n          \"MAKHDUMPUR (SC)\",\n          \"KILVELUR\",\n          \"BASERI (SC)\"\n        ],\n        \"semantic_type\": \"\",\n        \"description\": \"\"\n      }\n    },\n    {\n      \"column\": \"Party\",\n      \"properties\": {\n        \"dtype\": \"category\",\n        \"num_unique_values\": 23,\n        \"samples\": [\n          \"TDP\",\n          \"SHS\",\n          \"DMK\"\n        ],\n        \"semantic_type\": \"\",\n        \"description\": \"\"\n      }\n    },\n    {\n      \"column\": \"Criminal Case\",\n      \"properties\": {\n        \"dtype\": \"number\",\n        \"std\": 4,\n        \"min\": 0,\n        \"max\": 87,\n        \"num_unique_values\": 35,\n        \"samples\": [\n          87,\n          9,\n          18\n        ],\n        \"semantic_type\": \"\",\n        \"description\": \"\"\n      }\n    },\n    {\n      \"column\": \"Total Assets\",\n      \"properties\": {\n        \"dtype\": \"category\",\n        \"num_unique_values\": 210,\n        \"samples\": [\n          \"16 Lac+\",\n          \"34 Crore+\",\n          \"52 Crore+\"\n        ],\n        \"semantic_type\": \"\",\n        \"description\": \"\"\n      }\n    },\n    {\n      \"column\": \"Liabilities\",\n      \"properties\": {\n        \"dtype\": \"category\",\n        \"num_unique_values\": 170,\n        \"samples\": [\n          \"71 Lac+\",\n          \"6 Crore+\",\n          \"85 Lac+\"\n        ],\n        \"semantic_type\": \"\",\n        \"description\": \"\"\n      }\n    },\n    {\n      \"column\": \"state\",\n      \"properties\": {\n        \"dtype\": \"category\",\n        \"num_unique_values\": 28,\n        \"samples\": [\n          \"HIMACHAL PRADESH\",\n          \"SIKKIM\",\n          \"ODISHA\"\n        ],\n        \"semantic_type\": \"\",\n        \"description\": \"\"\n      }\n    },\n    {\n      \"column\": \"Education\",\n      \"properties\": {\n        \"dtype\": \"category\",\n        \"num_unique_values\": 10,\n        \"samples\": [\n          \"Literate\",\n          \"12th Pass\",\n          \"10th Pass\"\n        ],\n        \"semantic_type\": \"\",\n        \"description\": \"\"\n      }\n    }\n  ]\n}"
            }
          },
          "metadata": {},
          "execution_count": 40
        }
      ],
      "source": [
        "df3 = pd.read_csv('train.csv')\n",
        "df3.head()"
      ]
    },
    {
      "cell_type": "markdown",
      "metadata": {
        "id": "pZr8yExaV-jz"
      },
      "source": [
        "We want to Find percentage of Members in each party(%)"
      ]
    },
    {
      "cell_type": "code",
      "execution_count": 55,
      "metadata": {
        "colab": {
          "base_uri": "https://localhost:8080/",
          "height": 606
        },
        "id": "j-HRQz2LWFwp",
        "outputId": "8f65acc5-00b7-4097-c09f-657f46a0b82e"
      },
      "outputs": [
        {
          "output_type": "display_data",
          "data": {
            "text/plain": [
              "<Figure size 640x480 with 1 Axes>"
            ],
            "image/png": "[encoded data removed]"
          },
          "metadata": {}
        },
        {
          "output_type": "display_data",
          "data": {
            "text/plain": [
              "<Figure size 640x480 with 0 Axes>"
            ]
          },
          "metadata": {}
        }
      ],
      "source": [
        "party_counts = df3['Party'].value_counts()\n",
        "x_label = party_counts.index\n",
        "y_vals = party_counts\n",
        "tot = y_vals.sum()\n",
        "y_vals = y_vals / tot\n",
        "fig, ax = plt.subplots()\n",
        "bars = ax.bar(x_label , y_vals, color = 'blue',width=0.6)\n",
        "plt.xticks(rotation=90)\n",
        "plt.show()\n",
        "plt.savefig('plt1.png')"
      ]
    },
    {
      "cell_type": "markdown",
      "metadata": {
        "id": "HYr6fiWJfCAK"
      },
      "source": [
        "BJP has 40 % of the candidates."
      ]
    },
    {
      "cell_type": "markdown",
      "metadata": {
        "id": "gma95NPqpNBv"
      },
      "source": [
        "In order to find Criminal record associated with the party, we try to find the total criminal cases associated with the party members."
      ]
    },
    {
      "cell_type": "markdown",
      "metadata": {
        "id": "SaI8b3_UXitG"
      },
      "source": []
    },
    {
      "cell_type": "code",
      "execution_count": 42,
      "metadata": {
        "colab": {
          "base_uri": "https://localhost:8080/"
        },
        "id": "HR0rlHBKX6dT",
        "outputId": "52a95dac-a8b5-4f63-9acf-aafcf9936a4e"
      },
      "outputs": [
        {
          "output_type": "execute_result",
          "data": {
            "text/plain": [
              "count    2059.000000\n",
              "mean        1.777562\n",
              "std         4.762183\n",
              "min         0.000000\n",
              "25%         0.000000\n",
              "50%         0.000000\n",
              "75%         2.000000\n",
              "max        87.000000\n",
              "Name: Criminal Case, dtype: float64"
            ]
          },
          "metadata": {},
          "execution_count": 42
        }
      ],
      "source": [
        "df3['Criminal Case'].describe()"
      ]
    },
    {
      "cell_type": "markdown",
      "metadata": {
        "id": "GAzH0t4yYEwo"
      },
      "source": [
        "Cut off - 2 criminal cases\n"
      ]
    },
    {
      "cell_type": "code",
      "execution_count": 43,
      "metadata": {
        "colab": {
          "base_uri": "https://localhost:8080/"
        },
        "id": "ck9AYqFGXn6r",
        "outputId": "be348450-77b3-49c4-fe19-bfb2b3a9f2e0"
      },
      "outputs": [
        {
          "output_type": "execute_result",
          "data": {
            "text/plain": [
              "Party\n",
              "AAP                         0.090090\n",
              "AIADMK                      0.076923\n",
              "AITC                        0.121212\n",
              "BJD                         0.085106\n",
              "BJP                         0.123353\n",
              "CPI                         0.250000\n",
              "CPI(M)                      0.165138\n",
              "DMK                         0.078176\n",
              "INC                         0.104762\n",
              "IND                         0.061224\n",
              "JD(S)                       0.133333\n",
              "JD(U)                       0.121212\n",
              "JMM                         0.208333\n",
              "NCP                         0.130435\n",
              "NDPP                        0.000000\n",
              "NPP                         0.000000\n",
              "RJD                         0.167939\n",
              "SHS                         0.140845\n",
              "SP                          0.066465\n",
              "Sikkim Krantikari Morcha    0.000000\n",
              "TDP                         0.000000\n",
              "Tipra Motha Party           0.000000\n",
              "YSRCP                       0.135593\n",
              "dtype: float64"
            ]
          },
          "metadata": {},
          "execution_count": 43
        }
      ],
      "source": [
        "party_counts = df3['Party'].value_counts()\n",
        "tot_criminal_cases = df3['Criminal Case'].sum()\n",
        "filtered_df = df3[df3['Criminal Case'] > 2]\n",
        "party_criminals = df3.groupby('Party')['Criminal Case'].sum()\n",
        "Bigcriminals = filtered_df['Party'].value_counts()\n",
        "Bigcriminals = Bigcriminals / party_criminals\n",
        "Bigcriminals.fillna(0)"
      ]
    },
    {
      "cell_type": "markdown",
      "metadata": {
        "id": "TEnaSWCF4_6h"
      },
      "source": [
        "party_counts = df3['Party'].value_counts()\n",
        "tot_criminal_cases = df3['Criminal Case'].sum()\n",
        "tot_criminal_cases\n",
        "party_criminals = df3.groupby('Party')['Criminal Case'].sum()\n",
        "party_crimes = party_criminals / tot_criminal_cases"
      ]
    },
    {
      "cell_type": "code",
      "execution_count": 52,
      "metadata": {
        "colab": {
          "base_uri": "https://localhost:8080/",
          "height": 606
        },
        "id": "QctMXspn6I18",
        "outputId": "ee1991a8-e99a-4308-da61-32b36e1747ff"
      },
      "outputs": [
        {
          "output_type": "display_data",
          "data": {
            "text/plain": [
              "<Figure size 640x480 with 1 Axes>"
            ],
            "image/png": "[encoded data removed]"
          },
          "metadata": {}
        },
        {
          "output_type": "display_data",
          "data": {
            "text/plain": [
              "<Figure size 640x480 with 0 Axes>"
            ]
          },
          "metadata": {}
        }
      ],
      "source": [
        "x_labels = Bigcriminals.index\n",
        "y_values = Bigcriminals\n",
        "fig, ax = plt.subplots()\n",
        "bars = ax.bar(x_labels , y_values, color = 'blue',width=0.6)\n",
        "plt.xticks(rotation=90)\n",
        "plt.show()\n",
        "plt.savefig('plt2.png')"
      ]
    },
    {
      "cell_type": "markdown",
      "metadata": {
        "id": "aO7y8mRwA9zO"
      },
      "source": [
        "We observe that CPI and JMM have the highest percentage of criminals in their party"
      ]
    },
    {
      "cell_type": "markdown",
      "metadata": {
        "id": "ZIUWRQZI0cW9"
      },
      "source": [
        "# Parties vs Wealthy_candidate"
      ]
    },
    {
      "cell_type": "code",
      "execution_count": 45,
      "metadata": {
        "id": "n8lr_zEcaQfd"
      },
      "outputs": [],
      "source": [
        "Assets = df3['Total Assets']\n",
        "Liabilities = df3['Liabilities']\n",
        "df3['Liab_num'] = Liabilities.str.split(\" \").str.get(0).astype(int) * (Liabilities.str.contains(\"Hun\").astype(int)+Liabilities.str.contains(\"Thou\").astype(int)*10 + Liabilities.str.contains(\"Lac\").astype(int)*1000 + Liabilities.str.contains(\"Crore\").astype(int) * 100000)\n",
        "df3['Assets_num'] = Assets.str.split(\" \").str.get(0).astype(int) * (Assets.str.contains(\"Hun\").astype(int)+Assets.str.contains(\"Thou\").astype(int)*10 + Assets.str.contains(\"Lac\").astype(int)*1000 + Assets.str.contains(\"Crore\").astype(int) * 100000)\n",
        "df3['Wealth'] = df3[\"Assets_num\"] - df3[\"Liab_num\"]"
      ]
    },
    {
      "cell_type": "code",
      "execution_count": 46,
      "metadata": {
        "colab": {
          "base_uri": "https://localhost:8080/"
        },
        "id": "UR43JpImE5l_",
        "outputId": "f3dd0b35-fdb2-44ba-8e40-6abefa7be4e4"
      },
      "outputs": [
        {
          "output_type": "execute_result",
          "data": {
            "text/plain": [
              "count    2.059000e+03\n",
              "mean     9.400845e+05\n",
              "std      4.046811e+06\n",
              "min     -7.100000e+06\n",
              "25%      6.800000e+04\n",
              "50%      2.000000e+05\n",
              "75%      7.000000e+05\n",
              "max      1.262000e+08\n",
              "Name: Wealth, dtype: float64"
            ]
          },
          "metadata": {},
          "execution_count": 46
        }
      ],
      "source": [
        "df3[\"Wealth\"].describe()"
      ]
    },
    {
      "cell_type": "markdown",
      "metadata": {
        "id": "M20F8spfGDpT"
      },
      "source": [
        "**We assume candidate as wealthy if he has total assets more than 75% of the other candidates i.e has a wealth greater than or equal to 700K.**"
      ]
    },
    {
      "cell_type": "code",
      "execution_count": 57,
      "metadata": {
        "colab": {
          "base_uri": "https://localhost:8080/"
        },
        "id": "hk59m9e7GBIU",
        "outputId": "e17437b9-76f7-4644-a8ad-62875429c0a1"
      },
      "outputs": [
        {
          "output_type": "execute_result",
          "data": {
            "text/plain": [
              "Party\n",
              "AAP                         0.117021\n",
              "AIADMK                      0.117647\n",
              "AITC                        0.053846\n",
              "BJD                         0.153846\n",
              "BJP                         0.228538\n",
              "CPI                         0.000000\n",
              "CPI(M)                      0.000000\n",
              "DMK                         0.246575\n",
              "INC                         0.336986\n",
              "IND                         0.421053\n",
              "JD(S)                       0.428571\n",
              "JD(U)                       0.093750\n",
              "JMM                         0.142857\n",
              "NCP                         0.411765\n",
              "NDPP                        0.333333\n",
              "NPP                         0.300000\n",
              "RJD                         0.142857\n",
              "SHS                         0.344828\n",
              "SP                          0.112903\n",
              "Sikkim Krantikari Morcha    0.200000\n",
              "TDP                         0.875000\n",
              "Tipra Motha Party           0.000000\n",
              "YSRCP                       0.383721\n",
              "Name: count, dtype: float64"
            ]
          },
          "metadata": {},
          "execution_count": 57
        }
      ],
      "source": [
        "Assets = df3['Wealth']\n",
        "# Filter candidates with criminal cases more than 2\n",
        "filtered_df = df3[df3['Wealth'] > 700000]\n",
        "# Count the number of candidates from each party\n",
        "wealthy = filtered_df['Party'].value_counts()\n",
        "party_mems = df3['Party'].value_counts()\n",
        "party_counts = wealthy / party_mems\n",
        "party_counts.fillna(0)"
      ]
    },
    {
      "cell_type": "code",
      "execution_count": 58,
      "metadata": {
        "colab": {
          "base_uri": "https://localhost:8080/",
          "height": 606
        },
        "id": "g5_Q3wALH37z",
        "outputId": "d50537cc-8f4b-44d5-bf7a-8e451983313a"
      },
      "outputs": [
        {
          "output_type": "display_data",
          "data": {
            "text/plain": [
              "<Figure size 640x480 with 1 Axes>"
            ],
            "image/png": "[encoded data removed]"
          },
          "metadata": {}
        },
        {
          "output_type": "display_data",
          "data": {
            "text/plain": [
              "<Figure size 640x480 with 0 Axes>"
            ]
          },
          "metadata": {}
        }
      ],
      "source": [
        "x_labels = party_counts.index\n",
        "y_values = party_counts\n",
        "fig, ax = plt.subplots()\n",
        "bars = ax.bar(x_labels , y_values, color = 'blue',width=0.6)\n",
        "plt.xticks(rotation=90)\n",
        "plt.show()\n",
        "plt.savefig('plt3.png')"
      ]
    },
    {
      "cell_type": "markdown",
      "metadata": {
        "id": "qaJ3MIt7IeYm"
      },
      "source": [
        "TDF has the highest percentage of wealthy candidates wealthiest candidates\n"
      ]
    }
  ],
  "metadata": {
    "colab": {
      "provenance": [],
      "include_colab_link": true
    },
    "kernelspec": {
      "display_name": "Python 3",
      "name": "python3"
    },
    "language_info": {
      "codemirror_mode": {
        "name": "ipython",
        "version": 3
      },
      "file_extension": ".py",
      "mimetype": "text/x-python",
      "name": "python",
      "nbconvert_exporter": "python",
      "pygments_lexer": "ipython3",
      "version": "3.12.0"
    }
  },
  "nbformat": 4,
  "nbformat_minor": 0
}